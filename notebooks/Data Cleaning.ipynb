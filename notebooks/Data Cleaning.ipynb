{
 "cells": [
  {
   "cell_type": "markdown",
   "id": "2717d75c",
   "metadata": {},
   "source": [
    "# Data Exploration & Cleaning"
   ]
  },
  {
   "cell_type": "code",
   "execution_count": 1,
   "id": "070c3a86",
   "metadata": {},
   "outputs": [],
   "source": [
    "import pandas as pd\n",
    "import matplotlib.pyplot as plt\n",
    "%matplotlib inline"
   ]
  },
  {
   "cell_type": "code",
   "execution_count": 9,
   "id": "4ccc9c3b",
   "metadata": {},
   "outputs": [],
   "source": [
    "episodes_df = pd.read_csv('../data/interim_data/star_trek_episodes_scripts.csv', index_col=0)"
   ]
  },
  {
   "cell_type": "code",
   "execution_count": 10,
   "id": "553e7f32",
   "metadata": {},
   "outputs": [
    {
     "data": {
      "text/html": [
       "<div>\n",
       "<style scoped>\n",
       "    .dataframe tbody tr th:only-of-type {\n",
       "        vertical-align: middle;\n",
       "    }\n",
       "\n",
       "    .dataframe tbody tr th {\n",
       "        vertical-align: top;\n",
       "    }\n",
       "\n",
       "    .dataframe thead th {\n",
       "        text-align: right;\n",
       "    }\n",
       "</style>\n",
       "<table border=\"1\" class=\"dataframe\">\n",
       "  <thead>\n",
       "    <tr style=\"text-align: right;\">\n",
       "      <th></th>\n",
       "      <th>series</th>\n",
       "      <th>production_number</th>\n",
       "      <th>episode_title</th>\n",
       "      <th>script_link</th>\n",
       "      <th>script</th>\n",
       "    </tr>\n",
       "  </thead>\n",
       "  <tbody>\n",
       "    <tr>\n",
       "      <th>0</th>\n",
       "      <td>StarTrek</td>\n",
       "      <td>1</td>\n",
       "      <td>The Cage</td>\n",
       "      <td>http://www.chakoteya.net/StarTrek/1.htm</td>\n",
       "      <td>\\n\\n\\n\\n\\n\\nThe Star Trek Transcripts - The Ca...</td>\n",
       "    </tr>\n",
       "    <tr>\n",
       "      <th>1</th>\n",
       "      <td>StarTrek</td>\n",
       "      <td>6</td>\n",
       "      <td>The Man Trap</td>\n",
       "      <td>http://www.chakoteya.net/StarTrek/6.htm</td>\n",
       "      <td>\\n\\n\\n\\n\\n\\nThe Star Trek Transcripts - The Ma...</td>\n",
       "    </tr>\n",
       "    <tr>\n",
       "      <th>2</th>\n",
       "      <td>StarTrek</td>\n",
       "      <td>8</td>\n",
       "      <td>Charlie X</td>\n",
       "      <td>http://www.chakoteya.net/StarTrek/8.htm</td>\n",
       "      <td>\\n\\n\\n\\n\\n\\nThe Star Trek Transcripts - Charli...</td>\n",
       "    </tr>\n",
       "    <tr>\n",
       "      <th>3</th>\n",
       "      <td>StarTrek</td>\n",
       "      <td>2</td>\n",
       "      <td>Where No Man Has Gone Before</td>\n",
       "      <td>http://www.chakoteya.net/StarTrek/2.htm</td>\n",
       "      <td>\\n\\n\\n\\n\\n\\nThe Star Trek Transcripts - Where ...</td>\n",
       "    </tr>\n",
       "    <tr>\n",
       "      <th>4</th>\n",
       "      <td>StarTrek</td>\n",
       "      <td>7</td>\n",
       "      <td>The Naked Time</td>\n",
       "      <td>http://www.chakoteya.net/StarTrek/7.htm</td>\n",
       "      <td>\\n\\n\\n\\n\\n\\nThe Star Trek Transcripts - The Na...</td>\n",
       "    </tr>\n",
       "  </tbody>\n",
       "</table>\n",
       "</div>"
      ],
      "text/plain": [
       "     series production_number                  episode_title  \\\n",
       "0  StarTrek                 1                       The Cage   \n",
       "1  StarTrek                 6                   The Man Trap   \n",
       "2  StarTrek                 8                      Charlie X   \n",
       "3  StarTrek                 2   Where No Man Has Gone Before   \n",
       "4  StarTrek                 7                 The Naked Time   \n",
       "\n",
       "                               script_link  \\\n",
       "0  http://www.chakoteya.net/StarTrek/1.htm   \n",
       "1  http://www.chakoteya.net/StarTrek/6.htm   \n",
       "2  http://www.chakoteya.net/StarTrek/8.htm   \n",
       "3  http://www.chakoteya.net/StarTrek/2.htm   \n",
       "4  http://www.chakoteya.net/StarTrek/7.htm   \n",
       "\n",
       "                                              script  \n",
       "0  \\n\\n\\n\\n\\n\\nThe Star Trek Transcripts - The Ca...  \n",
       "1  \\n\\n\\n\\n\\n\\nThe Star Trek Transcripts - The Ma...  \n",
       "2  \\n\\n\\n\\n\\n\\nThe Star Trek Transcripts - Charli...  \n",
       "3  \\n\\n\\n\\n\\n\\nThe Star Trek Transcripts - Where ...  \n",
       "4  \\n\\n\\n\\n\\n\\nThe Star Trek Transcripts - The Na...  "
      ]
     },
     "execution_count": 10,
     "metadata": {},
     "output_type": "execute_result"
    }
   ],
   "source": [
    "episodes_df.head()"
   ]
  },
  {
   "cell_type": "code",
   "execution_count": 17,
   "id": "c46ef9ba",
   "metadata": {},
   "outputs": [
    {
     "name": "stdout",
     "output_type": "stream",
     "text": [
      "Number of series in Dataset:  6\n",
      "Number of unique episode titles in Dataset:  728\n",
      "Number of unique episode links in Dataset:  728\n",
      "Number of unique episode scripts in Dataset:  724\n"
     ]
    }
   ],
   "source": [
    "print(\"Number of series in Dataset: \", episodes_df['series'].nunique())\n",
    "print(\"Number of unique episode titles in Dataset: \", episodes_df['episode_title'].nunique())\n",
    "print(\"Number of unique episode links in Dataset: \", episodes_df['script_link'].nunique())\n",
    "print(\"Number of unique episode scripts in Dataset: \", episodes_df['script'].nunique())"
   ]
  },
  {
   "cell_type": "code",
   "execution_count": 15,
   "id": "32a9c218",
   "metadata": {},
   "outputs": [
    {
     "data": {
      "text/html": [
       "<div>\n",
       "<style scoped>\n",
       "    .dataframe tbody tr th:only-of-type {\n",
       "        vertical-align: middle;\n",
       "    }\n",
       "\n",
       "    .dataframe tbody tr th {\n",
       "        vertical-align: top;\n",
       "    }\n",
       "\n",
       "    .dataframe thead th {\n",
       "        text-align: right;\n",
       "    }\n",
       "</style>\n",
       "<table border=\"1\" class=\"dataframe\">\n",
       "  <thead>\n",
       "    <tr style=\"text-align: right;\">\n",
       "      <th></th>\n",
       "      <th>series</th>\n",
       "      <th>production_number</th>\n",
       "      <th>episode_title</th>\n",
       "      <th>script_link</th>\n",
       "      <th>script</th>\n",
       "    </tr>\n",
       "  </thead>\n",
       "  <tbody>\n",
       "    <tr>\n",
       "      <th>493</th>\n",
       "      <td>Voyager</td>\n",
       "      <td>222</td>\n",
       "      <td>Basics\\r\\nPart II</td>\n",
       "      <td>http://www.chakoteya.net/Voyager/222.htm#To%20...</td>\n",
       "      <td>\\n\\n\\n\\n\\n\\nThe Voyager Transcripts - Basics\\n...</td>\n",
       "    </tr>\n",
       "    <tr>\n",
       "      <th>518</th>\n",
       "      <td>Voyager</td>\n",
       "      <td>321</td>\n",
       "      <td>Scorpion\\r\\nPart 2</td>\n",
       "      <td>http://www.chakoteya.net/Voyager/321.htm#To%20...</td>\n",
       "      <td>\\n\\n\\n\\n\\n\\nThe Voyager Transcripts - Scorpion...</td>\n",
       "    </tr>\n",
       "    <tr>\n",
       "      <th>567</th>\n",
       "      <td>Voyager</td>\n",
       "      <td>525</td>\n",
       "      <td>Equinox\\r\\nPart 2</td>\n",
       "      <td>http://www.chakoteya.net/Voyager/525.htm#To%20...</td>\n",
       "      <td>\\n\\n\\n\\n\\n\\nThe Voyager Transcripts - Equinox\\...</td>\n",
       "    </tr>\n",
       "    <tr>\n",
       "      <th>593</th>\n",
       "      <td>Voyager</td>\n",
       "      <td>625</td>\n",
       "      <td>Unimatrix\\r\\nZero Part II</td>\n",
       "      <td>http://www.chakoteya.net/Voyager/625.htm#To%20...</td>\n",
       "      <td>\\n\\n\\n\\n\\n\\nThe Voyager Transcripts - Unimatri...</td>\n",
       "    </tr>\n",
       "  </tbody>\n",
       "</table>\n",
       "</div>"
      ],
      "text/plain": [
       "      series production_number              episode_title  \\\n",
       "493  Voyager               222          Basics\\r\\nPart II   \n",
       "518  Voyager               321         Scorpion\\r\\nPart 2   \n",
       "567  Voyager               525          Equinox\\r\\nPart 2   \n",
       "593  Voyager               625  Unimatrix\\r\\nZero Part II   \n",
       "\n",
       "                                           script_link  \\\n",
       "493  http://www.chakoteya.net/Voyager/222.htm#To%20...   \n",
       "518  http://www.chakoteya.net/Voyager/321.htm#To%20...   \n",
       "567  http://www.chakoteya.net/Voyager/525.htm#To%20...   \n",
       "593  http://www.chakoteya.net/Voyager/625.htm#To%20...   \n",
       "\n",
       "                                                script  \n",
       "493  \\n\\n\\n\\n\\n\\nThe Voyager Transcripts - Basics\\n...  \n",
       "518  \\n\\n\\n\\n\\n\\nThe Voyager Transcripts - Scorpion...  \n",
       "567  \\n\\n\\n\\n\\n\\nThe Voyager Transcripts - Equinox\\...  \n",
       "593  \\n\\n\\n\\n\\n\\nThe Voyager Transcripts - Unimatri...  "
      ]
     },
     "execution_count": 15,
     "metadata": {},
     "output_type": "execute_result"
    }
   ],
   "source": [
    "episodes_df[episodes_df.duplicated(['script'])]"
   ]
  },
  {
   "cell_type": "markdown",
   "id": "eac56400",
   "metadata": {},
   "source": [
    "Continued episodes link to the same script."
   ]
  },
  {
   "cell_type": "code",
   "execution_count": null,
   "id": "01e751b6",
   "metadata": {},
   "outputs": [],
   "source": [
    "# Change title of first part episodes into part I & II"
   ]
  },
  {
   "cell_type": "code",
   "execution_count": null,
   "id": "be3ac480",
   "metadata": {},
   "outputs": [],
   "source": [
    "# Remove duplicate episodes"
   ]
  },
  {
   "cell_type": "code",
   "execution_count": null,
   "id": "778e0a24",
   "metadata": {},
   "outputs": [],
   "source": [
    "# Episode Title\n",
    "# remove space at beginning/end of title\n",
    "# replace \\r\\n with space\n"
   ]
  },
  {
   "cell_type": "code",
   "execution_count": null,
   "id": "07a497dc",
   "metadata": {},
   "outputs": [],
   "source": [
    "# Script\n",
    "# rm multiple newline \\n\\n\\n\\n\\n\\n\n",
    "# rm The Star Trek Transcripts - \n",
    "# replace \\r\\n with space"
   ]
  },
  {
   "cell_type": "code",
   "execution_count": 21,
   "id": "db538f1a",
   "metadata": {
    "scrolled": false
   },
   "outputs": [],
   "source": []
  },
  {
   "cell_type": "code",
   "execution_count": null,
   "id": "21f5cfbd",
   "metadata": {},
   "outputs": [],
   "source": []
  },
  {
   "cell_type": "code",
   "execution_count": null,
   "id": "76f8d969",
   "metadata": {},
   "outputs": [],
   "source": []
  },
  {
   "cell_type": "markdown",
   "id": "29469eed",
   "metadata": {},
   "source": [
    "Text in Script to remove later:\n",
    "\n",
    "The Star Trek Transcripts\n",
    "\n",
    "<Back\n",
    "to the episode listing\n",
    "Star\n",
    "Trek ® is copyright of  CBS\n",
    "Studios Inc. Copyright © 1966, Present.\n",
    "The Star Trek web pages on this site are for educational and\n",
    "entertainment purposes only. All other copyrights property of their\n",
    "respective holders."
   ]
  }
 ],
 "metadata": {
  "kernelspec": {
   "display_name": "Python 3",
   "language": "python",
   "name": "python3"
  },
  "language_info": {
   "codemirror_mode": {
    "name": "ipython",
    "version": 3
   },
   "file_extension": ".py",
   "mimetype": "text/x-python",
   "name": "python",
   "nbconvert_exporter": "python",
   "pygments_lexer": "ipython3",
   "version": "3.8.10"
  }
 },
 "nbformat": 4,
 "nbformat_minor": 5
}
