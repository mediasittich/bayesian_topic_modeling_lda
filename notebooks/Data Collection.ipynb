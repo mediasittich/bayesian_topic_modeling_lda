{
 "cells": [
  {
   "cell_type": "markdown",
   "id": "36a2d2c3",
   "metadata": {},
   "source": [
    "# Data Collection\n",
    "\n",
    "## Data\n",
    "\n",
    "**Star Trek Series**\n",
    "\n",
    "| Series | Seasons | Episodes | Originally released | In Dataset |\n",
    "| :----: | :----: | :----: | :----: | :----: |\n",
    "| The Original Series | 3 | 79 | September 8, 1966 – June 3, 1969 | yes |\n",
    "| The Animated Series | 2 | 22 | September 8, 1973 – October 12, 1974 | yes |\n",
    "| The Next Generation | 7 | 178 | September 28, 1987 – May 23, 1994 | yes |\n",
    "| Deep Space Nine | 7 | 176 | January 4, 1993 – May 31, 1999 | yes |\n",
    "| Voyager | 7 | 172 | January 16, 1995 – May 23, 2001 | yes |\n",
    "| Enterprise | 4 | 98 | September 26, 2001 – May 13, 2005 | yes |\n",
    "| Discovery | 3 | 42 | September 24, 2017 – present | only 1st season |\n",
    "| Short Treks | 2 | 10 | October 4, 2018 – January 9, 2020 | no |\n",
    "| Picard | 1 | 10 | January 23, 2020 – present | no |\n",
    "| Lower Decks | 1 | 10 | August 6, 2020 – present | no |\n",
    "\n",
    "Source: [Wikipedia:StarTrek#Television](https://en.wikipedia.org/wiki/Star_Trek#Television)\n",
    "\n",
    "## List of Episodes with Transcripts\n",
    "\n",
    "* List of all episodes in each series\n",
    "* Transcripts for all episodes\n",
    "\n",
    "Source: [www.chakoteya.net | The Star Trek Transcripts](http://www.chakoteya.net/StarTrek/index.html)\n",
    "\n",
    "## Metadata\n",
    "\n",
    "* Release or production year\n",
    "\n",
    "\n",
    "## Data structure for corpus:\n",
    "\n",
    "| id | airdate | series | production_number | episode_title | script |\n",
    "| :----: | :----: | :----: | :----: | :----: | :----: |\n",
    "| id | airdate | series | production_number | episode_title | script |\n",
    "| id | airdate | series | production_number | episode_title | script |"
   ]
  },
  {
   "cell_type": "code",
   "execution_count": 1,
   "id": "bc704eaf",
   "metadata": {},
   "outputs": [],
   "source": [
    "import requests\n",
    "from bs4 import BeautifulSoup"
   ]
  },
  {
   "cell_type": "code",
   "execution_count": 2,
   "id": "632cd094",
   "metadata": {},
   "outputs": [],
   "source": [
    "import pandas as pd"
   ]
  },
  {
   "cell_type": "code",
   "execution_count": 3,
   "id": "dd4c134d",
   "metadata": {},
   "outputs": [],
   "source": [
    "import matplotlib.pyplot as plt\n",
    "%matplotlib inline"
   ]
  },
  {
   "cell_type": "code",
   "execution_count": 4,
   "id": "c23646fa",
   "metadata": {},
   "outputs": [],
   "source": [
    "# Create list of links to each series' episode list page\n",
    "episodes_list_links = [\"http://www.chakoteya.net/StarTrek/episodes.htm\",\n",
    "               \"http://www.chakoteya.net/NextGen/episodes.htm\",\n",
    "               \"http://www.chakoteya.net/DS9/episodes.htm\",\n",
    "               \"http://www.chakoteya.net/Voyager/episode_listing.htm\",\n",
    "               \"http://www.chakoteya.net/Enterprise/episodes.htm\",\n",
    "               \"http://www.chakoteya.net/STDisco17/episodes.html\"]"
   ]
  },
  {
   "cell_type": "code",
   "execution_count": 5,
   "id": "7f012620",
   "metadata": {},
   "outputs": [],
   "source": [
    "# Create list of base links for each series as root for single episodes\n",
    "base_links = []\n",
    "\n",
    "for link in episodes_list_links:\n",
    "    base_links.append(link.rsplit('/',1)[0] + \"/\")"
   ]
  },
  {
   "cell_type": "code",
   "execution_count": 6,
   "id": "f15c7ad7",
   "metadata": {},
   "outputs": [],
   "source": [
    "links_to_remove = ['http://www.chakoteya.net/StarTrek/None',\n",
    "                   'fortyseven.htm',\n",
    "                   'http://www.chakoteya.net/Voyager/LineCountS1-S3.htm',\n",
    "                   'LineCountS1-S3.htm',\n",
    "                   'http://www.chakoteya.net/Voyager/LineCountS4-S7.htm',\n",
    "                   'LineCountS4-S7.htm',\n",
    "                   'http://www.cbs.com',\n",
    "                   '../StarTrek/index.html',\n",
    "                   'http://www.cbs.com',\n",
    "                   'http://www.chakoteya.net/section31.php',\n",
    "                  'http://www.chakoteya.net/projecthoneypot_script/section31.php']"
   ]
  },
  {
   "cell_type": "code",
   "execution_count": 7,
   "id": "e5adcf98",
   "metadata": {
    "scrolled": true
   },
   "outputs": [
    {
     "name": "stdout",
     "output_type": "stream",
     "text": [
      "Series StarTrek done.\n",
      "Series NextGen done.\n",
      "Series DS9 done.\n",
      "Series Voyager done.\n",
      "Series Enterprise done.\n",
      "Series STDisco17 done.\n"
     ]
    }
   ],
   "source": [
    "episodes_list = []\n",
    "\n",
    "for i, link in enumerate(episodes_list_links):\n",
    "    website_url = requests.get(link).text\n",
    "    soup = BeautifulSoup(website_url, 'lxml')\n",
    "    urls = soup.find_all('a', href=True)\n",
    "    for page in urls:\n",
    "        if page.get('href') not in links_to_remove:\n",
    "            series = link.split('/')[3]\n",
    "            episode_title = page.text\n",
    "            production_number = page['href'].split('.')[0]\n",
    "            script_link = base_links[i] + str(page.get('href'))\n",
    "            episodes_list.append([series, production_number,\n",
    "                                  episode_title, script_link])\n",
    "        else:pass\n",
    "    \n",
    "    print(\"Series {} done.\".format(link.split('/')[3]))\n",
    "\n",
    "    #print(f\"There are {nb_links} links in this page\")\n"
   ]
  },
  {
   "cell_type": "code",
   "execution_count": 8,
   "id": "cd49236c",
   "metadata": {},
   "outputs": [],
   "source": [
    "episodes_df = pd.DataFrame(episodes_list, \n",
    "                        columns = ['series', 'production_number',\n",
    "                                   'episode_title', 'script_link'])"
   ]
  },
  {
   "cell_type": "code",
   "execution_count": 9,
   "id": "d4a7c264",
   "metadata": {},
   "outputs": [
    {
     "data": {
      "text/html": [
       "<div>\n",
       "<style scoped>\n",
       "    .dataframe tbody tr th:only-of-type {\n",
       "        vertical-align: middle;\n",
       "    }\n",
       "\n",
       "    .dataframe tbody tr th {\n",
       "        vertical-align: top;\n",
       "    }\n",
       "\n",
       "    .dataframe thead th {\n",
       "        text-align: right;\n",
       "    }\n",
       "</style>\n",
       "<table border=\"1\" class=\"dataframe\">\n",
       "  <thead>\n",
       "    <tr style=\"text-align: right;\">\n",
       "      <th></th>\n",
       "      <th>series</th>\n",
       "      <th>production_number</th>\n",
       "      <th>episode_title</th>\n",
       "      <th>script_link</th>\n",
       "    </tr>\n",
       "  </thead>\n",
       "  <tbody>\n",
       "    <tr>\n",
       "      <th>0</th>\n",
       "      <td>StarTrek</td>\n",
       "      <td>1</td>\n",
       "      <td>The Cage</td>\n",
       "      <td>http://www.chakoteya.net/StarTrek/1.htm</td>\n",
       "    </tr>\n",
       "    <tr>\n",
       "      <th>1</th>\n",
       "      <td>StarTrek</td>\n",
       "      <td>6</td>\n",
       "      <td>The Man Trap</td>\n",
       "      <td>http://www.chakoteya.net/StarTrek/6.htm</td>\n",
       "    </tr>\n",
       "    <tr>\n",
       "      <th>2</th>\n",
       "      <td>StarTrek</td>\n",
       "      <td>8</td>\n",
       "      <td>Charlie X</td>\n",
       "      <td>http://www.chakoteya.net/StarTrek/8.htm</td>\n",
       "    </tr>\n",
       "    <tr>\n",
       "      <th>3</th>\n",
       "      <td>StarTrek</td>\n",
       "      <td>2</td>\n",
       "      <td>Where No Man Has Gone Before</td>\n",
       "      <td>http://www.chakoteya.net/StarTrek/2.htm</td>\n",
       "    </tr>\n",
       "    <tr>\n",
       "      <th>4</th>\n",
       "      <td>StarTrek</td>\n",
       "      <td>7</td>\n",
       "      <td>The Naked Time</td>\n",
       "      <td>http://www.chakoteya.net/StarTrek/7.htm</td>\n",
       "    </tr>\n",
       "  </tbody>\n",
       "</table>\n",
       "</div>"
      ],
      "text/plain": [
       "     series production_number                  episode_title  \\\n",
       "0  StarTrek                 1                       The Cage   \n",
       "1  StarTrek                 6                   The Man Trap   \n",
       "2  StarTrek                 8                      Charlie X   \n",
       "3  StarTrek                 2   Where No Man Has Gone Before   \n",
       "4  StarTrek                 7                 The Naked Time   \n",
       "\n",
       "                               script_link  \n",
       "0  http://www.chakoteya.net/StarTrek/1.htm  \n",
       "1  http://www.chakoteya.net/StarTrek/6.htm  \n",
       "2  http://www.chakoteya.net/StarTrek/8.htm  \n",
       "3  http://www.chakoteya.net/StarTrek/2.htm  \n",
       "4  http://www.chakoteya.net/StarTrek/7.htm  "
      ]
     },
     "execution_count": 9,
     "metadata": {},
     "output_type": "execute_result"
    }
   ],
   "source": [
    "episodes_df.head()"
   ]
  },
  {
   "cell_type": "code",
   "execution_count": 10,
   "id": "d9899d05",
   "metadata": {},
   "outputs": [
    {
     "data": {
      "text/html": [
       "<div>\n",
       "<style scoped>\n",
       "    .dataframe tbody tr th:only-of-type {\n",
       "        vertical-align: middle;\n",
       "    }\n",
       "\n",
       "    .dataframe tbody tr th {\n",
       "        vertical-align: top;\n",
       "    }\n",
       "\n",
       "    .dataframe thead th {\n",
       "        text-align: right;\n",
       "    }\n",
       "</style>\n",
       "<table border=\"1\" class=\"dataframe\">\n",
       "  <thead>\n",
       "    <tr style=\"text-align: right;\">\n",
       "      <th></th>\n",
       "      <th>series</th>\n",
       "      <th>production_number</th>\n",
       "      <th>episode_title</th>\n",
       "      <th>script_link</th>\n",
       "    </tr>\n",
       "  </thead>\n",
       "  <tbody>\n",
       "    <tr>\n",
       "      <th>723</th>\n",
       "      <td>STDisco17</td>\n",
       "      <td>111</td>\n",
       "      <td>The Wolf Inside</td>\n",
       "      <td>http://www.chakoteya.net/STDisco17/111.html</td>\n",
       "    </tr>\n",
       "    <tr>\n",
       "      <th>724</th>\n",
       "      <td>STDisco17</td>\n",
       "      <td>112</td>\n",
       "      <td>Vaulting Ambition</td>\n",
       "      <td>http://www.chakoteya.net/STDisco17/112.html</td>\n",
       "    </tr>\n",
       "    <tr>\n",
       "      <th>725</th>\n",
       "      <td>STDisco17</td>\n",
       "      <td>113</td>\n",
       "      <td>What's Past is Prologue</td>\n",
       "      <td>http://www.chakoteya.net/STDisco17/113.html</td>\n",
       "    </tr>\n",
       "    <tr>\n",
       "      <th>726</th>\n",
       "      <td>STDisco17</td>\n",
       "      <td>114</td>\n",
       "      <td>The War Without, The War Within</td>\n",
       "      <td>http://www.chakoteya.net/STDisco17/114.html</td>\n",
       "    </tr>\n",
       "    <tr>\n",
       "      <th>727</th>\n",
       "      <td>STDisco17</td>\n",
       "      <td>115</td>\n",
       "      <td>Will You Take My Hand?</td>\n",
       "      <td>http://www.chakoteya.net/STDisco17/115.html</td>\n",
       "    </tr>\n",
       "  </tbody>\n",
       "</table>\n",
       "</div>"
      ],
      "text/plain": [
       "        series production_number                    episode_title  \\\n",
       "723  STDisco17               111                  The Wolf Inside   \n",
       "724  STDisco17               112                Vaulting Ambition   \n",
       "725  STDisco17               113          What's Past is Prologue   \n",
       "726  STDisco17               114  The War Without, The War Within   \n",
       "727  STDisco17               115           Will You Take My Hand?   \n",
       "\n",
       "                                     script_link  \n",
       "723  http://www.chakoteya.net/STDisco17/111.html  \n",
       "724  http://www.chakoteya.net/STDisco17/112.html  \n",
       "725  http://www.chakoteya.net/STDisco17/113.html  \n",
       "726  http://www.chakoteya.net/STDisco17/114.html  \n",
       "727  http://www.chakoteya.net/STDisco17/115.html  "
      ]
     },
     "execution_count": 10,
     "metadata": {},
     "output_type": "execute_result"
    }
   ],
   "source": [
    "episodes_df.tail()"
   ]
  },
  {
   "cell_type": "code",
   "execution_count": 11,
   "id": "e48b2347",
   "metadata": {},
   "outputs": [
    {
     "data": {
      "text/html": [
       "<div>\n",
       "<style scoped>\n",
       "    .dataframe tbody tr th:only-of-type {\n",
       "        vertical-align: middle;\n",
       "    }\n",
       "\n",
       "    .dataframe tbody tr th {\n",
       "        vertical-align: top;\n",
       "    }\n",
       "\n",
       "    .dataframe thead th {\n",
       "        text-align: right;\n",
       "    }\n",
       "</style>\n",
       "<table border=\"1\" class=\"dataframe\">\n",
       "  <thead>\n",
       "    <tr style=\"text-align: right;\">\n",
       "      <th></th>\n",
       "      <th>series</th>\n",
       "      <th>production_number</th>\n",
       "      <th>episode_title</th>\n",
       "      <th>script_link</th>\n",
       "    </tr>\n",
       "  </thead>\n",
       "  <tbody>\n",
       "    <tr>\n",
       "      <th>count</th>\n",
       "      <td>728</td>\n",
       "      <td>728</td>\n",
       "      <td>728</td>\n",
       "      <td>728</td>\n",
       "    </tr>\n",
       "    <tr>\n",
       "      <th>unique</th>\n",
       "      <td>6</td>\n",
       "      <td>549</td>\n",
       "      <td>728</td>\n",
       "      <td>728</td>\n",
       "    </tr>\n",
       "    <tr>\n",
       "      <th>top</th>\n",
       "      <td>NextGen</td>\n",
       "      <td>525</td>\n",
       "      <td>Ménage à Troi</td>\n",
       "      <td>http://www.chakoteya.net/DS9/501.htm</td>\n",
       "    </tr>\n",
       "    <tr>\n",
       "      <th>freq</th>\n",
       "      <td>176</td>\n",
       "      <td>3</td>\n",
       "      <td>1</td>\n",
       "      <td>1</td>\n",
       "    </tr>\n",
       "  </tbody>\n",
       "</table>\n",
       "</div>"
      ],
      "text/plain": [
       "         series production_number  episode_title  \\\n",
       "count       728               728            728   \n",
       "unique        6               549            728   \n",
       "top     NextGen               525  Ménage à Troi   \n",
       "freq        176                 3              1   \n",
       "\n",
       "                                 script_link  \n",
       "count                                    728  \n",
       "unique                                   728  \n",
       "top     http://www.chakoteya.net/DS9/501.htm  \n",
       "freq                                       1  "
      ]
     },
     "execution_count": 11,
     "metadata": {},
     "output_type": "execute_result"
    }
   ],
   "source": [
    "episodes_df.describe(include='all')"
   ]
  },
  {
   "cell_type": "code",
   "execution_count": 12,
   "id": "49a13f40",
   "metadata": {},
   "outputs": [
    {
     "name": "stdout",
     "output_type": "stream",
     "text": [
      "Number of episodes in total:  728\n"
     ]
    }
   ],
   "source": [
    "print(\"Number of episodes in total: \", episodes_df['episode_title'].nunique())"
   ]
  },
  {
   "cell_type": "code",
   "execution_count": 13,
   "id": "eb379d72",
   "metadata": {},
   "outputs": [
    {
     "name": "stdout",
     "output_type": "stream",
     "text": [
      "Number of series in Dataset:  6\n"
     ]
    }
   ],
   "source": [
    "print(\"Number of series in Dataset: \", episodes_df['series'].nunique())"
   ]
  },
  {
   "cell_type": "code",
   "execution_count": 14,
   "id": "69ee5769",
   "metadata": {},
   "outputs": [
    {
     "data": {
      "image/png": "[encoded data removed]",
      "text/plain": [
       "<Figure size 1008x576 with 1 Axes>"
      ]
     },
     "metadata": {
      "needs_background": "light"
     },
     "output_type": "display_data"
    }
   ],
   "source": [
    "ax = episodes_df['series'].value_counts().sort_index().plot(kind='bar',\n",
    "                                         figsize=(14,8))\n",
    "plt.xlabel('Series')\n",
    "plt.ylabel('Number of Episodes')\n",
    "plt.title('Number of Episodes per Series')\n",
    "plt.show()"
   ]
  },
  {
   "cell_type": "code",
   "execution_count": 15,
   "id": "1e260544",
   "metadata": {},
   "outputs": [
    {
     "data": {
      "text/html": [
       "<div>\n",
       "<style scoped>\n",
       "    .dataframe tbody tr th:only-of-type {\n",
       "        vertical-align: middle;\n",
       "    }\n",
       "\n",
       "    .dataframe tbody tr th {\n",
       "        vertical-align: top;\n",
       "    }\n",
       "\n",
       "    .dataframe thead th {\n",
       "        text-align: right;\n",
       "    }\n",
       "</style>\n",
       "<table border=\"1\" class=\"dataframe\">\n",
       "  <thead>\n",
       "    <tr style=\"text-align: right;\">\n",
       "      <th></th>\n",
       "      <th>series</th>\n",
       "      <th>production_number</th>\n",
       "      <th>episode_title</th>\n",
       "      <th>script_link</th>\n",
       "    </tr>\n",
       "  </thead>\n",
       "  <tbody>\n",
       "    <tr>\n",
       "      <th>452</th>\n",
       "      <td>Voyager</td>\n",
       "      <td>101</td>\n",
       "      <td>Caretaker</td>\n",
       "      <td>http://www.chakoteya.net/Voyager/101.htm</td>\n",
       "    </tr>\n",
       "    <tr>\n",
       "      <th>454</th>\n",
       "      <td>Voyager</td>\n",
       "      <td>103</td>\n",
       "      <td>Time and Again</td>\n",
       "      <td>http://www.chakoteya.net/Voyager/103.htm</td>\n",
       "    </tr>\n",
       "    <tr>\n",
       "      <th>455</th>\n",
       "      <td>Voyager</td>\n",
       "      <td>104</td>\n",
       "      <td>Phage</td>\n",
       "      <td>http://www.chakoteya.net/Voyager/104.htm</td>\n",
       "    </tr>\n",
       "    <tr>\n",
       "      <th>456</th>\n",
       "      <td>Voyager</td>\n",
       "      <td>105</td>\n",
       "      <td>The Cloud</td>\n",
       "      <td>http://www.chakoteya.net/Voyager/105.htm</td>\n",
       "    </tr>\n",
       "    <tr>\n",
       "      <th>457</th>\n",
       "      <td>Voyager</td>\n",
       "      <td>106</td>\n",
       "      <td>Eye of the Needle</td>\n",
       "      <td>http://www.chakoteya.net/Voyager/106.htm</td>\n",
       "    </tr>\n",
       "    <tr>\n",
       "      <th>...</th>\n",
       "      <td>...</td>\n",
       "      <td>...</td>\n",
       "      <td>...</td>\n",
       "      <td>...</td>\n",
       "    </tr>\n",
       "    <tr>\n",
       "      <th>723</th>\n",
       "      <td>STDisco17</td>\n",
       "      <td>111</td>\n",
       "      <td>The Wolf Inside</td>\n",
       "      <td>http://www.chakoteya.net/STDisco17/111.html</td>\n",
       "    </tr>\n",
       "    <tr>\n",
       "      <th>724</th>\n",
       "      <td>STDisco17</td>\n",
       "      <td>112</td>\n",
       "      <td>Vaulting Ambition</td>\n",
       "      <td>http://www.chakoteya.net/STDisco17/112.html</td>\n",
       "    </tr>\n",
       "    <tr>\n",
       "      <th>725</th>\n",
       "      <td>STDisco17</td>\n",
       "      <td>113</td>\n",
       "      <td>What's Past is Prologue</td>\n",
       "      <td>http://www.chakoteya.net/STDisco17/113.html</td>\n",
       "    </tr>\n",
       "    <tr>\n",
       "      <th>726</th>\n",
       "      <td>STDisco17</td>\n",
       "      <td>114</td>\n",
       "      <td>The War Without, The War Within</td>\n",
       "      <td>http://www.chakoteya.net/STDisco17/114.html</td>\n",
       "    </tr>\n",
       "    <tr>\n",
       "      <th>727</th>\n",
       "      <td>STDisco17</td>\n",
       "      <td>115</td>\n",
       "      <td>Will You Take My Hand?</td>\n",
       "      <td>http://www.chakoteya.net/STDisco17/115.html</td>\n",
       "    </tr>\n",
       "  </tbody>\n",
       "</table>\n",
       "<p>179 rows × 4 columns</p>\n",
       "</div>"
      ],
      "text/plain": [
       "        series production_number                    episode_title  \\\n",
       "452    Voyager               101                        Caretaker   \n",
       "454    Voyager               103                   Time and Again   \n",
       "455    Voyager               104                            Phage   \n",
       "456    Voyager               105                        The Cloud   \n",
       "457    Voyager               106                Eye of the Needle   \n",
       "..         ...               ...                              ...   \n",
       "723  STDisco17               111                  The Wolf Inside   \n",
       "724  STDisco17               112                Vaulting Ambition   \n",
       "725  STDisco17               113          What's Past is Prologue   \n",
       "726  STDisco17               114  The War Without, The War Within   \n",
       "727  STDisco17               115           Will You Take My Hand?   \n",
       "\n",
       "                                     script_link  \n",
       "452     http://www.chakoteya.net/Voyager/101.htm  \n",
       "454     http://www.chakoteya.net/Voyager/103.htm  \n",
       "455     http://www.chakoteya.net/Voyager/104.htm  \n",
       "456     http://www.chakoteya.net/Voyager/105.htm  \n",
       "457     http://www.chakoteya.net/Voyager/106.htm  \n",
       "..                                           ...  \n",
       "723  http://www.chakoteya.net/STDisco17/111.html  \n",
       "724  http://www.chakoteya.net/STDisco17/112.html  \n",
       "725  http://www.chakoteya.net/STDisco17/113.html  \n",
       "726  http://www.chakoteya.net/STDisco17/114.html  \n",
       "727  http://www.chakoteya.net/STDisco17/115.html  \n",
       "\n",
       "[179 rows x 4 columns]"
      ]
     },
     "execution_count": 15,
     "metadata": {},
     "output_type": "execute_result"
    }
   ],
   "source": [
    "episodes_df[episodes_df.duplicated(['production_number'])]"
   ]
  },
  {
   "cell_type": "code",
   "execution_count": 16,
   "id": "a72c9819",
   "metadata": {},
   "outputs": [
    {
     "data": {
      "text/html": [
       "<div>\n",
       "<style scoped>\n",
       "    .dataframe tbody tr th:only-of-type {\n",
       "        vertical-align: middle;\n",
       "    }\n",
       "\n",
       "    .dataframe tbody tr th {\n",
       "        vertical-align: top;\n",
       "    }\n",
       "\n",
       "    .dataframe thead th {\n",
       "        text-align: right;\n",
       "    }\n",
       "</style>\n",
       "<table border=\"1\" class=\"dataframe\">\n",
       "  <thead>\n",
       "    <tr style=\"text-align: right;\">\n",
       "      <th></th>\n",
       "      <th>series</th>\n",
       "      <th>production_number</th>\n",
       "      <th>episode_title</th>\n",
       "      <th>script_link</th>\n",
       "    </tr>\n",
       "  </thead>\n",
       "  <tbody>\n",
       "    <tr>\n",
       "      <th>0</th>\n",
       "      <td>StarTrek</td>\n",
       "      <td>1</td>\n",
       "      <td>The Cage</td>\n",
       "      <td>http://www.chakoteya.net/StarTrek/1.htm</td>\n",
       "    </tr>\n",
       "    <tr>\n",
       "      <th>1</th>\n",
       "      <td>StarTrek</td>\n",
       "      <td>6</td>\n",
       "      <td>The Man Trap</td>\n",
       "      <td>http://www.chakoteya.net/StarTrek/6.htm</td>\n",
       "    </tr>\n",
       "    <tr>\n",
       "      <th>2</th>\n",
       "      <td>StarTrek</td>\n",
       "      <td>8</td>\n",
       "      <td>Charlie X</td>\n",
       "      <td>http://www.chakoteya.net/StarTrek/8.htm</td>\n",
       "    </tr>\n",
       "    <tr>\n",
       "      <th>3</th>\n",
       "      <td>StarTrek</td>\n",
       "      <td>2</td>\n",
       "      <td>Where No Man Has Gone Before</td>\n",
       "      <td>http://www.chakoteya.net/StarTrek/2.htm</td>\n",
       "    </tr>\n",
       "    <tr>\n",
       "      <th>4</th>\n",
       "      <td>StarTrek</td>\n",
       "      <td>7</td>\n",
       "      <td>The Naked Time</td>\n",
       "      <td>http://www.chakoteya.net/StarTrek/7.htm</td>\n",
       "    </tr>\n",
       "  </tbody>\n",
       "</table>\n",
       "</div>"
      ],
      "text/plain": [
       "     series production_number                  episode_title  \\\n",
       "0  StarTrek                 1                       The Cage   \n",
       "1  StarTrek                 6                   The Man Trap   \n",
       "2  StarTrek                 8                      Charlie X   \n",
       "3  StarTrek                 2   Where No Man Has Gone Before   \n",
       "4  StarTrek                 7                 The Naked Time   \n",
       "\n",
       "                               script_link  \n",
       "0  http://www.chakoteya.net/StarTrek/1.htm  \n",
       "1  http://www.chakoteya.net/StarTrek/6.htm  \n",
       "2  http://www.chakoteya.net/StarTrek/8.htm  \n",
       "3  http://www.chakoteya.net/StarTrek/2.htm  \n",
       "4  http://www.chakoteya.net/StarTrek/7.htm  "
      ]
     },
     "execution_count": 16,
     "metadata": {},
     "output_type": "execute_result"
    }
   ],
   "source": [
    "episodes_df.head()"
   ]
  },
  {
   "cell_type": "code",
   "execution_count": 26,
   "id": "8ec0fd35",
   "metadata": {},
   "outputs": [],
   "source": [
    "script_list = []\n",
    "\n",
    "for row in episodes_df['script_link']:\n",
    "    response = requests.get(row)\n",
    "    content = response.content\n",
    "    parser = BeautifulSoup(content, 'html.parser')\n",
    "    text = parser.text\n",
    "    script_list.append(text)"
   ]
  },
  {
   "cell_type": "code",
   "execution_count": 27,
   "id": "4cf52aaf",
   "metadata": {},
   "outputs": [
    {
     "data": {
      "text/plain": [
       "728"
      ]
     },
     "execution_count": 27,
     "metadata": {},
     "output_type": "execute_result"
    }
   ],
   "source": [
    "len(script_list)"
   ]
  },
  {
   "cell_type": "code",
   "execution_count": 30,
   "id": "1fecb49c",
   "metadata": {},
   "outputs": [],
   "source": [
    "episodes_df['script'] = script_list"
   ]
  },
  {
   "cell_type": "code",
   "execution_count": 34,
   "id": "77245185",
   "metadata": {},
   "outputs": [
    {
     "data": {
      "text/html": [
       "<div>\n",
       "<style scoped>\n",
       "    .dataframe tbody tr th:only-of-type {\n",
       "        vertical-align: middle;\n",
       "    }\n",
       "\n",
       "    .dataframe tbody tr th {\n",
       "        vertical-align: top;\n",
       "    }\n",
       "\n",
       "    .dataframe thead th {\n",
       "        text-align: right;\n",
       "    }\n",
       "</style>\n",
       "<table border=\"1\" class=\"dataframe\">\n",
       "  <thead>\n",
       "    <tr style=\"text-align: right;\">\n",
       "      <th></th>\n",
       "      <th>series</th>\n",
       "      <th>production_number</th>\n",
       "      <th>episode_title</th>\n",
       "      <th>script_link</th>\n",
       "      <th>script</th>\n",
       "    </tr>\n",
       "  </thead>\n",
       "  <tbody>\n",
       "    <tr>\n",
       "      <th>0</th>\n",
       "      <td>StarTrek</td>\n",
       "      <td>1</td>\n",
       "      <td>The Cage</td>\n",
       "      <td>http://www.chakoteya.net/StarTrek/1.htm</td>\n",
       "      <td>\\n\\n\\n\\n\\n\\nThe Star Trek Transcripts - The Ca...</td>\n",
       "    </tr>\n",
       "    <tr>\n",
       "      <th>1</th>\n",
       "      <td>StarTrek</td>\n",
       "      <td>6</td>\n",
       "      <td>The Man Trap</td>\n",
       "      <td>http://www.chakoteya.net/StarTrek/6.htm</td>\n",
       "      <td>\\n\\n\\n\\n\\n\\nThe Star Trek Transcripts - The Ma...</td>\n",
       "    </tr>\n",
       "    <tr>\n",
       "      <th>2</th>\n",
       "      <td>StarTrek</td>\n",
       "      <td>8</td>\n",
       "      <td>Charlie X</td>\n",
       "      <td>http://www.chakoteya.net/StarTrek/8.htm</td>\n",
       "      <td>\\n\\n\\n\\n\\n\\nThe Star Trek Transcripts - Charli...</td>\n",
       "    </tr>\n",
       "    <tr>\n",
       "      <th>3</th>\n",
       "      <td>StarTrek</td>\n",
       "      <td>2</td>\n",
       "      <td>Where No Man Has Gone Before</td>\n",
       "      <td>http://www.chakoteya.net/StarTrek/2.htm</td>\n",
       "      <td>\\n\\n\\n\\n\\n\\nThe Star Trek Transcripts - Where ...</td>\n",
       "    </tr>\n",
       "    <tr>\n",
       "      <th>4</th>\n",
       "      <td>StarTrek</td>\n",
       "      <td>7</td>\n",
       "      <td>The Naked Time</td>\n",
       "      <td>http://www.chakoteya.net/StarTrek/7.htm</td>\n",
       "      <td>\\n\\n\\n\\n\\n\\nThe Star Trek Transcripts - The Na...</td>\n",
       "    </tr>\n",
       "  </tbody>\n",
       "</table>\n",
       "</div>"
      ],
      "text/plain": [
       "     series production_number                  episode_title  \\\n",
       "0  StarTrek                 1                       The Cage   \n",
       "1  StarTrek                 6                   The Man Trap   \n",
       "2  StarTrek                 8                      Charlie X   \n",
       "3  StarTrek                 2   Where No Man Has Gone Before   \n",
       "4  StarTrek                 7                 The Naked Time   \n",
       "\n",
       "                               script_link  \\\n",
       "0  http://www.chakoteya.net/StarTrek/1.htm   \n",
       "1  http://www.chakoteya.net/StarTrek/6.htm   \n",
       "2  http://www.chakoteya.net/StarTrek/8.htm   \n",
       "3  http://www.chakoteya.net/StarTrek/2.htm   \n",
       "4  http://www.chakoteya.net/StarTrek/7.htm   \n",
       "\n",
       "                                              script  \n",
       "0  \\n\\n\\n\\n\\n\\nThe Star Trek Transcripts - The Ca...  \n",
       "1  \\n\\n\\n\\n\\n\\nThe Star Trek Transcripts - The Ma...  \n",
       "2  \\n\\n\\n\\n\\n\\nThe Star Trek Transcripts - Charli...  \n",
       "3  \\n\\n\\n\\n\\n\\nThe Star Trek Transcripts - Where ...  \n",
       "4  \\n\\n\\n\\n\\n\\nThe Star Trek Transcripts - The Na...  "
      ]
     },
     "execution_count": 34,
     "metadata": {},
     "output_type": "execute_result"
    }
   ],
   "source": [
    "episodes_df.head()"
   ]
  },
  {
   "cell_type": "code",
   "execution_count": 35,
   "id": "e69098c5",
   "metadata": {},
   "outputs": [],
   "source": [
    "episodes_df.to_csv('../data/interim_data/star_trek_episodes_scripts.csv')"
   ]
  }
 ],
 "metadata": {
  "kernelspec": {
   "display_name": "Python 3",
   "language": "python",
   "name": "python3"
  },
  "language_info": {
   "codemirror_mode": {
    "name": "ipython",
    "version": 3
   },
   "file_extension": ".py",
   "mimetype": "text/x-python",
   "name": "python",
   "nbconvert_exporter": "python",
   "pygments_lexer": "ipython3",
   "version": "3.8.10"
  }
 },
 "nbformat": 4,
 "nbformat_minor": 5
}
