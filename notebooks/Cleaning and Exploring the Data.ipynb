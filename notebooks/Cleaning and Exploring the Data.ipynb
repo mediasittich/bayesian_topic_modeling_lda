{
 "cells": [
  {
   "cell_type": "markdown",
   "id": "face36f2",
   "metadata": {},
   "source": [
    "# Cleaning and Exploring the Datasets\n",
    "\n",
    "**Star Trek Series**\n",
    "\n",
    "| Series | Seasons | Episodes | Originally released | In Dataset |\n",
    "| :----: | :----: | :----: | :----: | :----: |\n",
    "| The Original Series | 3 | 79 | September 8, 1966 – June 3, 1969 | yes |\n",
    "| The Animated Series | 2 | 22 | September 8, 1973 – October 12, 1974 | yes |\n",
    "| The Next Generation | 7 | 178 | September 28, 1987 – May 23, 1994 | yes |\n",
    "| Deep Space Nine | 7 | 176 | January 4, 1993 – May 31, 1999 | yes |\n",
    "| Voyager | 7 | 172 | January 16, 1995 – May 23, 2001 | yes |\n",
    "| Enterprise | 4 | 98 | September 26, 2001 – May 13, 2005 | yes |\n",
    "| Discovery | 3 | 42 | September 24, 2017 – present | only 1st season |\n",
    "| Short Treks | 2 | 10 | October 4, 2018 – January 9, 2020 | no |\n",
    "| Picard | 1 | 10 | January 23, 2020 – present | no |\n",
    "| Lower Decks | 1 | 10 | August 6, 2020 – present | no |\n",
    "\n",
    "Source: [Wikipedia:StarTrek#Television](https://en.wikipedia.org/wiki/Star_Trek#Television)\n",
    "\n",
    "## List of Episodes with Transcripts\n",
    "\n",
    "Source: [www.chakoteya.net | The Star Trek Transcripts](http://www.chakoteya.net/StarTrek/index.html)\n",
    "\n",
    "\n",
    "## Data structure:\n",
    "\n",
    "| id | airdate | series | production_number | episode_title | script |\n",
    "| :----: | :----: | :----: | :----: | :----: | :----: |\n",
    "| id | airdate | series | production_number | episode_title | script |\n",
    "| id | airdate | series | production_number | episode_title | script |"
   ]
  },
  {
   "cell_type": "markdown",
   "id": "29db7e38",
   "metadata": {},
   "source": [
    "**Resources**\n",
    "\n",
    "- [stackoverflow - Check if string has date, any format](https://stackoverflow.com/questions/25341945/check-if-string-has-date-any-format)"
   ]
  },
  {
   "cell_type": "code",
   "execution_count": 89,
   "id": "0fd4b589",
   "metadata": {},
   "outputs": [],
   "source": [
    "import pandas as pd\n",
    "import re\n",
    "import seaborn as sns\n",
    "import matplotlib.pyplot as plt\n",
    "%matplotlib inline\n",
    "sns.set_style(\"darkgrid\")\n",
    "sns.set_palette(\"Set2\")\n",
    "\n",
    "import nltk\n",
    "import spacy\n",
    "import contractions\n",
    "import unicodedata\n",
    "from dateutil.parser import parse"
   ]
  },
  {
   "cell_type": "code",
   "execution_count": 10,
   "id": "f2b7d37d",
   "metadata": {},
   "outputs": [],
   "source": [
    "# load Datasets\n",
    "metadata_df = pd.read_csv('../data/raw_data/st_metadata.csv')\n",
    "summaries_df = pd.read_csv('../data/raw_data/st_summaries.csv')\n",
    "transcripts_df = pd.read_csv('../data/raw_data/st_transcripts.csv')"
   ]
  },
  {
   "cell_type": "markdown",
   "id": "8ad0f51f",
   "metadata": {},
   "source": [
    "# Metadata"
   ]
  },
  {
   "cell_type": "code",
   "execution_count": 12,
   "id": "6ed4bef9",
   "metadata": {},
   "outputs": [
    {
     "data": {
      "text/html": [
       "<div>\n",
       "<style scoped>\n",
       "    .dataframe tbody tr th:only-of-type {\n",
       "        vertical-align: middle;\n",
       "    }\n",
       "\n",
       "    .dataframe tbody tr th {\n",
       "        vertical-align: top;\n",
       "    }\n",
       "\n",
       "    .dataframe thead th {\n",
       "        text-align: right;\n",
       "    }\n",
       "</style>\n",
       "<table border=\"1\" class=\"dataframe\">\n",
       "  <thead>\n",
       "    <tr style=\"text-align: right;\">\n",
       "      <th></th>\n",
       "      <th>episode</th>\n",
       "      <th>title</th>\n",
       "      <th>abbr</th>\n",
       "      <th>stardate</th>\n",
       "      <th>original_airdate</th>\n",
       "      <th>production_number</th>\n",
       "    </tr>\n",
       "  </thead>\n",
       "  <tbody>\n",
       "    <tr>\n",
       "      <th>0</th>\n",
       "      <td>0x01</td>\n",
       "      <td>The Cage</td>\n",
       "      <td>TOS</td>\n",
       "      <td>Unknown</td>\n",
       "      <td>1988-10-04</td>\n",
       "      <td>6149-01</td>\n",
       "    </tr>\n",
       "    <tr>\n",
       "      <th>1</th>\n",
       "      <td>1x01</td>\n",
       "      <td>Where No Man Has Gone Before</td>\n",
       "      <td>TOS</td>\n",
       "      <td>1312.4 - 1313.8</td>\n",
       "      <td>1966-09-22</td>\n",
       "      <td>6149-02</td>\n",
       "    </tr>\n",
       "    <tr>\n",
       "      <th>2</th>\n",
       "      <td>1x02</td>\n",
       "      <td>The Corbomite Maneuver</td>\n",
       "      <td>TOS</td>\n",
       "      <td>1512.2 - 1514.1</td>\n",
       "      <td>1966-11-10</td>\n",
       "      <td>6149-03</td>\n",
       "    </tr>\n",
       "    <tr>\n",
       "      <th>3</th>\n",
       "      <td>1x03</td>\n",
       "      <td>Mudd's Women</td>\n",
       "      <td>TOS</td>\n",
       "      <td>1329.8 - 1330.1</td>\n",
       "      <td>1966-10-13</td>\n",
       "      <td>6149-04</td>\n",
       "    </tr>\n",
       "    <tr>\n",
       "      <th>4</th>\n",
       "      <td>1x04</td>\n",
       "      <td>The Enemy Within</td>\n",
       "      <td>TOS</td>\n",
       "      <td>1672.1 - 1673.1</td>\n",
       "      <td>1966-10-06</td>\n",
       "      <td>6149-05</td>\n",
       "    </tr>\n",
       "  </tbody>\n",
       "</table>\n",
       "</div>"
      ],
      "text/plain": [
       "  episode                         title abbr         stardate  \\\n",
       "0    0x01                      The Cage  TOS          Unknown   \n",
       "1    1x01  Where No Man Has Gone Before  TOS  1312.4 - 1313.8   \n",
       "2    1x02        The Corbomite Maneuver  TOS  1512.2 - 1514.1   \n",
       "3    1x03                  Mudd's Women  TOS  1329.8 - 1330.1   \n",
       "4    1x04              The Enemy Within  TOS  1672.1 - 1673.1   \n",
       "\n",
       "  original_airdate production_number  \n",
       "0       1988-10-04           6149-01  \n",
       "1       1966-09-22           6149-02  \n",
       "2       1966-11-10           6149-03  \n",
       "3       1966-10-13           6149-04  \n",
       "4       1966-10-06           6149-05  "
      ]
     },
     "execution_count": 12,
     "metadata": {},
     "output_type": "execute_result"
    }
   ],
   "source": [
    "metadata_df.head()"
   ]
  },
  {
   "cell_type": "code",
   "execution_count": 11,
   "id": "497aa550",
   "metadata": {},
   "outputs": [
    {
     "data": {
      "text/plain": [
       "(791, 6)"
      ]
     },
     "execution_count": 11,
     "metadata": {},
     "output_type": "execute_result"
    }
   ],
   "source": [
    "metadata_df.shape"
   ]
  },
  {
   "cell_type": "code",
   "execution_count": 21,
   "id": "3d003a3f",
   "metadata": {
    "scrolled": true
   },
   "outputs": [
    {
     "data": {
      "text/plain": [
       "episode              object\n",
       "title                object\n",
       "abbr                 object\n",
       "stardate             object\n",
       "original_airdate     object\n",
       "production_number    object\n",
       "dtype: object"
      ]
     },
     "execution_count": 21,
     "metadata": {},
     "output_type": "execute_result"
    }
   ],
   "source": [
    "metadata_df.dtypes"
   ]
  },
  {
   "cell_type": "code",
   "execution_count": 23,
   "id": "aeb9f723",
   "metadata": {},
   "outputs": [],
   "source": [
    "# Check if original_airdate column contains strings that can be converted to date\n",
    "def is_date(string, fuzzy=False):\n",
    "    \"\"\"\n",
    "    Return whether the string can be interpreted as a date.\n",
    "\n",
    "    :param string: str, string to check for date\n",
    "    :param fuzzy: bool, ignore unknown tokens in string if True\n",
    "    \"\"\"\n",
    "    try: \n",
    "        parse(string, fuzzy=fuzzy)\n",
    "        return True\n",
    "\n",
    "    except ValueError:\n",
    "        return False"
   ]
  },
  {
   "cell_type": "code",
   "execution_count": 24,
   "id": "d2de5df7",
   "metadata": {},
   "outputs": [],
   "source": [
    "date_bool = metadata_df.apply(lambda row : is_date(row['original_airdate']), axis = 1)"
   ]
  },
  {
   "cell_type": "code",
   "execution_count": 28,
   "id": "6baf8ae5",
   "metadata": {},
   "outputs": [
    {
     "data": {
      "text/html": [
       "<div>\n",
       "<style scoped>\n",
       "    .dataframe tbody tr th:only-of-type {\n",
       "        vertical-align: middle;\n",
       "    }\n",
       "\n",
       "    .dataframe tbody tr th {\n",
       "        vertical-align: top;\n",
       "    }\n",
       "\n",
       "    .dataframe thead th {\n",
       "        text-align: right;\n",
       "    }\n",
       "</style>\n",
       "<table border=\"1\" class=\"dataframe\">\n",
       "  <thead>\n",
       "    <tr style=\"text-align: right;\">\n",
       "      <th></th>\n",
       "      <th>episode</th>\n",
       "      <th>title</th>\n",
       "      <th>abbr</th>\n",
       "      <th>stardate</th>\n",
       "      <th>original_airdate</th>\n",
       "      <th>production_number</th>\n",
       "    </tr>\n",
       "  </thead>\n",
       "  <tbody>\n",
       "    <tr>\n",
       "      <th>725</th>\n",
       "      <td>Chapter Two</td>\n",
       "      <td>Chapter Two</td>\n",
       "      <td>DIS</td>\n",
       "      <td>Chapter Two</td>\n",
       "      <td>Chapter Two</td>\n",
       "      <td>Chapter Two</td>\n",
       "    </tr>\n",
       "  </tbody>\n",
       "</table>\n",
       "</div>"
      ],
      "text/plain": [
       "         episode        title abbr     stardate original_airdate  \\\n",
       "725  Chapter Two  Chapter Two  DIS  Chapter Two      Chapter Two   \n",
       "\n",
       "    production_number  \n",
       "725       Chapter Two  "
      ]
     },
     "execution_count": 28,
     "metadata": {},
     "output_type": "execute_result"
    }
   ],
   "source": [
    "metadata_df.iloc[metadata_df[date_bool == False].index]"
   ]
  },
  {
   "cell_type": "code",
   "execution_count": 29,
   "id": "d159a90b",
   "metadata": {},
   "outputs": [],
   "source": [
    "metadata_df = metadata_df.drop(metadata_df[date_bool == False].index)"
   ]
  },
  {
   "cell_type": "code",
   "execution_count": 32,
   "id": "b3ef3d80",
   "metadata": {},
   "outputs": [],
   "source": [
    "metadata_df['original_airdate'] = pd.to_datetime(metadata_df['original_airdate'])"
   ]
  },
  {
   "cell_type": "code",
   "execution_count": 35,
   "id": "cfc4bcd2",
   "metadata": {
    "scrolled": true
   },
   "outputs": [
    {
     "name": "stdout",
     "output_type": "stream",
     "text": [
      "Number of series in Dataset:  9\n",
      "Number of unique episode titles in Dataset:  790\n",
      "Number of airdates in Dataset:  734\n"
     ]
    }
   ],
   "source": [
    "print(\"Number of series in Dataset: \", metadata_df['abbr'].nunique())\n",
    "print(\"Number of unique episode titles in Dataset: \", metadata_df['title'].nunique())\n",
    "print(\"Number of airdates in Dataset: \", metadata_df['original_airdate'].nunique())"
   ]
  },
  {
   "cell_type": "code",
   "execution_count": 61,
   "id": "2ced9480",
   "metadata": {},
   "outputs": [],
   "source": [
    "#metadata_df.sort_values(by = ['abbr', 'original_airdate'], ascending=[True, True])"
   ]
  },
  {
   "cell_type": "code",
   "execution_count": 62,
   "id": "d723f531",
   "metadata": {
    "scrolled": false
   },
   "outputs": [],
   "source": [
    "#metadata_df[metadata_df['original_airdate'].duplicated(keep=False)]"
   ]
  },
  {
   "cell_type": "code",
   "execution_count": 95,
   "id": "e23b17ab",
   "metadata": {},
   "outputs": [
    {
     "data": {
      "image/png": "[encoded data removed]",
      "text/plain": [
       "<Figure size 1008x576 with 1 Axes>"
      ]
     },
     "metadata": {},
     "output_type": "display_data"
    }
   ],
   "source": [
    "plt.figure(figsize=(14,8))\n",
    "ax = sns.countplot(data=metadata_df, x = 'abbr',  \n",
    "            order=['TOS', 'TAS', 'TNG', 'DS9', 'VOY', 'ENT', 'DIS', 'PIC', 'LD'])\n",
    "\n",
    "ax.set_title('Number of Episodes per Series',fontsize = 18, fontweight='bold' )\n",
    "ax.set_xlabel('Series', fontsize = 15)\n",
    "ax.set_ylabel('Number of Episodes', fontsize = 15)\n",
    "\n",
    "for rect in ax.patches:\n",
    "    ax.text (rect.get_x() + rect.get_width()  / 2,rect.get_height()\n",
    "             + 0.75,rect.get_height(),horizontalalignment='center', fontsize = 11)\n",
    "\n",
    "plt.show()"
   ]
  },
  {
   "cell_type": "code",
   "execution_count": 98,
   "id": "1a6b8dab",
   "metadata": {},
   "outputs": [
    {
     "data": {
      "image/png": "[encoded data removed]",
      "text/plain": [
       "<Figure size 1008x576 with 1 Axes>"
      ]
     },
     "metadata": {},
     "output_type": "display_data"
    }
   ],
   "source": [
    "ax = metadata_df.groupby(metadata_df[\"original_airdate\"].dt.year)['episode'].count().plot(kind=\"bar\", \\\n",
    "                                                                                           figsize=(14,8))\n",
    "\n",
    "ax.set_title('Number of Episodes per Year',fontsize = 18, fontweight='bold' )\n",
    "ax.set_xlabel('Year of Original Airdate', fontsize = 15)\n",
    "ax.set_ylabel('Number of Episodes', fontsize = 15)\n",
    "\n",
    "plt.show()"
   ]
  },
  {
   "cell_type": "markdown",
   "id": "15bbdc81",
   "metadata": {},
   "source": [
    "# Summaries"
   ]
  },
  {
   "cell_type": "code",
   "execution_count": 17,
   "id": "eadffb2e",
   "metadata": {},
   "outputs": [
    {
     "data": {
      "text/html": [
       "<div>\n",
       "<style scoped>\n",
       "    .dataframe tbody tr th:only-of-type {\n",
       "        vertical-align: middle;\n",
       "    }\n",
       "\n",
       "    .dataframe tbody tr th {\n",
       "        vertical-align: top;\n",
       "    }\n",
       "\n",
       "    .dataframe thead th {\n",
       "        text-align: right;\n",
       "    }\n",
       "</style>\n",
       "<table border=\"1\" class=\"dataframe\">\n",
       "  <thead>\n",
       "    <tr style=\"text-align: right;\">\n",
       "      <th></th>\n",
       "      <th>episode_abbr</th>\n",
       "      <th>episode_titles</th>\n",
       "      <th>episode_urls</th>\n",
       "      <th>summary_text_clean</th>\n",
       "    </tr>\n",
       "  </thead>\n",
       "  <tbody>\n",
       "    <tr>\n",
       "      <th>0</th>\n",
       "      <td>TOS</td>\n",
       "      <td>The Cage</td>\n",
       "      <td>https://memory-alpha.fandom.com/wiki/The_Cage_...</td>\n",
       "      <td>Captain Pike on the bridge The year is 2254, ...</td>\n",
       "    </tr>\n",
       "    <tr>\n",
       "      <th>1</th>\n",
       "      <td>TOS</td>\n",
       "      <td>Where No Man Has Gone Before</td>\n",
       "      <td>https://memory-alpha.fandom.com/wiki/Where_No_...</td>\n",
       "      <td>\"I'll have you checkmated your next move…\" \"C...</td>\n",
       "    </tr>\n",
       "    <tr>\n",
       "      <th>2</th>\n",
       "      <td>TOS</td>\n",
       "      <td>The Corbomite Maneuver</td>\n",
       "      <td>https://memory-alpha.fandom.com/wiki/The_Corbo...</td>\n",
       "      <td>The mysterious object The USS Enterprise is i...</td>\n",
       "    </tr>\n",
       "    <tr>\n",
       "      <th>3</th>\n",
       "      <td>TOS</td>\n",
       "      <td>Mudd's Women</td>\n",
       "      <td>https://memory-alpha.fandom.com/wiki/Mudd%27s_...</td>\n",
       "      <td>The USS Enterprise chases an unregistered sta...</td>\n",
       "    </tr>\n",
       "    <tr>\n",
       "      <th>4</th>\n",
       "      <td>TOS</td>\n",
       "      <td>The Enemy Within</td>\n",
       "      <td>https://memory-alpha.fandom.com/wiki/The_Enemy...</td>\n",
       "      <td>During a survey of Alfa 177, geological techn...</td>\n",
       "    </tr>\n",
       "  </tbody>\n",
       "</table>\n",
       "</div>"
      ],
      "text/plain": [
       "  episode_abbr                episode_titles  \\\n",
       "0          TOS                      The Cage   \n",
       "1          TOS  Where No Man Has Gone Before   \n",
       "2          TOS        The Corbomite Maneuver   \n",
       "3          TOS                  Mudd's Women   \n",
       "4          TOS              The Enemy Within   \n",
       "\n",
       "                                        episode_urls  \\\n",
       "0  https://memory-alpha.fandom.com/wiki/The_Cage_...   \n",
       "1  https://memory-alpha.fandom.com/wiki/Where_No_...   \n",
       "2  https://memory-alpha.fandom.com/wiki/The_Corbo...   \n",
       "3  https://memory-alpha.fandom.com/wiki/Mudd%27s_...   \n",
       "4  https://memory-alpha.fandom.com/wiki/The_Enemy...   \n",
       "\n",
       "                                  summary_text_clean  \n",
       "0   Captain Pike on the bridge The year is 2254, ...  \n",
       "1   \"I'll have you checkmated your next move…\" \"C...  \n",
       "2   The mysterious object The USS Enterprise is i...  \n",
       "3   The USS Enterprise chases an unregistered sta...  \n",
       "4   During a survey of Alfa 177, geological techn...  "
      ]
     },
     "execution_count": 17,
     "metadata": {},
     "output_type": "execute_result"
    }
   ],
   "source": [
    "summaries_df.head()"
   ]
  },
  {
   "cell_type": "code",
   "execution_count": 13,
   "id": "91ce09c3",
   "metadata": {},
   "outputs": [
    {
     "data": {
      "text/plain": [
       "(778, 4)"
      ]
     },
     "execution_count": 13,
     "metadata": {},
     "output_type": "execute_result"
    }
   ],
   "source": [
    "summaries_df.shape"
   ]
  },
  {
   "cell_type": "code",
   "execution_count": 63,
   "id": "9c9f3565",
   "metadata": {},
   "outputs": [
    {
     "data": {
      "text/plain": [
       "episode_abbr          object\n",
       "episode_titles        object\n",
       "episode_urls          object\n",
       "summary_text_clean    object\n",
       "dtype: object"
      ]
     },
     "execution_count": 63,
     "metadata": {},
     "output_type": "execute_result"
    }
   ],
   "source": [
    "summaries_df.dtypes"
   ]
  },
  {
   "cell_type": "code",
   "execution_count": 18,
   "id": "a8ea1ad2",
   "metadata": {},
   "outputs": [
    {
     "name": "stdout",
     "output_type": "stream",
     "text": [
      "Number of series in Dataset:  9\n",
      "Number of unique episode titles in Dataset:  778\n",
      "Number of unique episode scripts in Dataset:  778\n"
     ]
    }
   ],
   "source": [
    "print(\"Number of series in Dataset: \", summaries_df['episode_abbr'].nunique())\n",
    "print(\"Number of unique episode titles in Dataset: \", summaries_df['episode_titles'].nunique())\n",
    "print(\"Number of unique episode scripts in Dataset: \", summaries_df['summary_text_clean'].nunique())"
   ]
  },
  {
   "cell_type": "code",
   "execution_count": 96,
   "id": "3760946d",
   "metadata": {},
   "outputs": [
    {
     "data": {
      "image/png": "[encoded data removed]",
      "text/plain": [
       "<Figure size 1008x576 with 1 Axes>"
      ]
     },
     "metadata": {},
     "output_type": "display_data"
    }
   ],
   "source": [
    "plt.figure(figsize=(14,8))\n",
    "ax = sns.countplot(data=summaries_df, x = 'episode_abbr',  \n",
    "            order=['TOS', 'TAS', 'TNG', 'DS9', 'VOY', 'ENT', 'DIS', 'PIC', 'LD'])\n",
    "\n",
    "ax.set_title('Number of Episodes per Series',fontsize = 18, fontweight='bold' )\n",
    "ax.set_xlabel('Series', fontsize = 15)\n",
    "ax.set_ylabel('Number of Episodes', fontsize = 15)\n",
    "\n",
    "for rect in ax.patches:\n",
    "    ax.text (rect.get_x() + rect.get_width()  / 2,rect.get_height() \n",
    "             + 0.75,rect.get_height(),horizontalalignment='center', fontsize = 11)\n",
    "\n",
    "plt.show()"
   ]
  },
  {
   "cell_type": "code",
   "execution_count": 69,
   "id": "91e03c88",
   "metadata": {},
   "outputs": [
    {
     "data": {
      "text/html": [
       "<div>\n",
       "<style scoped>\n",
       "    .dataframe tbody tr th:only-of-type {\n",
       "        vertical-align: middle;\n",
       "    }\n",
       "\n",
       "    .dataframe tbody tr th {\n",
       "        vertical-align: top;\n",
       "    }\n",
       "\n",
       "    .dataframe thead th {\n",
       "        text-align: right;\n",
       "    }\n",
       "</style>\n",
       "<table border=\"1\" class=\"dataframe\">\n",
       "  <thead>\n",
       "    <tr style=\"text-align: right;\">\n",
       "      <th></th>\n",
       "      <th>episode_abbr</th>\n",
       "      <th>episode_titles</th>\n",
       "      <th>episode_urls</th>\n",
       "      <th>summary_text_clean</th>\n",
       "    </tr>\n",
       "  </thead>\n",
       "  <tbody>\n",
       "    <tr>\n",
       "      <th>0</th>\n",
       "      <td>TOS</td>\n",
       "      <td>The Cage</td>\n",
       "      <td>https://memory-alpha.fandom.com/wiki/The_Cage_...</td>\n",
       "      <td>Captain Pike on the bridge The year is 2254, ...</td>\n",
       "    </tr>\n",
       "    <tr>\n",
       "      <th>1</th>\n",
       "      <td>TOS</td>\n",
       "      <td>Where No Man Has Gone Before</td>\n",
       "      <td>https://memory-alpha.fandom.com/wiki/Where_No_...</td>\n",
       "      <td>\"I'll have you checkmated your next move…\" \"C...</td>\n",
       "    </tr>\n",
       "    <tr>\n",
       "      <th>2</th>\n",
       "      <td>TOS</td>\n",
       "      <td>The Corbomite Maneuver</td>\n",
       "      <td>https://memory-alpha.fandom.com/wiki/The_Corbo...</td>\n",
       "      <td>The mysterious object The USS Enterprise is i...</td>\n",
       "    </tr>\n",
       "    <tr>\n",
       "      <th>3</th>\n",
       "      <td>TOS</td>\n",
       "      <td>Mudd's Women</td>\n",
       "      <td>https://memory-alpha.fandom.com/wiki/Mudd%27s_...</td>\n",
       "      <td>The USS Enterprise chases an unregistered sta...</td>\n",
       "    </tr>\n",
       "    <tr>\n",
       "      <th>4</th>\n",
       "      <td>TOS</td>\n",
       "      <td>The Enemy Within</td>\n",
       "      <td>https://memory-alpha.fandom.com/wiki/The_Enemy...</td>\n",
       "      <td>During a survey of Alfa 177, geological techn...</td>\n",
       "    </tr>\n",
       "    <tr>\n",
       "      <th>...</th>\n",
       "      <td>...</td>\n",
       "      <td>...</td>\n",
       "      <td>...</td>\n",
       "      <td>...</td>\n",
       "    </tr>\n",
       "    <tr>\n",
       "      <th>773</th>\n",
       "      <td>LD</td>\n",
       "      <td>Terminal Provocations</td>\n",
       "      <td>https://memory-alpha.fandom.com/wiki/Terminal_...</td>\n",
       "      <td>In the lower decks crew quarters, Ensign Brad...</td>\n",
       "    </tr>\n",
       "    <tr>\n",
       "      <th>774</th>\n",
       "      <td>LD</td>\n",
       "      <td>Much Ado About Boimler</td>\n",
       "      <td>https://memory-alpha.fandom.com/wiki/Much_Ado_...</td>\n",
       "      <td>Ensigns Brad Boimler, Beckett Mariner, and Sa...</td>\n",
       "    </tr>\n",
       "    <tr>\n",
       "      <th>775</th>\n",
       "      <td>LD</td>\n",
       "      <td>Veritas</td>\n",
       "      <td>https://memory-alpha.fandom.com/wiki/Veritas_(...</td>\n",
       "      <td>On K'Tuevon Prime, Ensigns Beckett Mariner, B...</td>\n",
       "    </tr>\n",
       "    <tr>\n",
       "      <th>776</th>\n",
       "      <td>LD</td>\n",
       "      <td>Crisis Point</td>\n",
       "      <td>https://memory-alpha.fandom.com/wiki/Crisis_Po...</td>\n",
       "      <td>On the surface of a planet, a huge statue of ...</td>\n",
       "    </tr>\n",
       "    <tr>\n",
       "      <th>777</th>\n",
       "      <td>LD</td>\n",
       "      <td>No Small Parts</td>\n",
       "      <td>https://memory-alpha.fandom.com/wiki/No_Small_...</td>\n",
       "      <td>\"The Cerritos is in orbit around Beta III. Ba...</td>\n",
       "    </tr>\n",
       "  </tbody>\n",
       "</table>\n",
       "<p>778 rows × 4 columns</p>\n",
       "</div>"
      ],
      "text/plain": [
       "    episode_abbr                episode_titles  \\\n",
       "0            TOS                      The Cage   \n",
       "1            TOS  Where No Man Has Gone Before   \n",
       "2            TOS        The Corbomite Maneuver   \n",
       "3            TOS                  Mudd's Women   \n",
       "4            TOS              The Enemy Within   \n",
       "..           ...                           ...   \n",
       "773           LD         Terminal Provocations   \n",
       "774           LD        Much Ado About Boimler   \n",
       "775           LD                       Veritas   \n",
       "776           LD                  Crisis Point   \n",
       "777           LD                No Small Parts   \n",
       "\n",
       "                                          episode_urls  \\\n",
       "0    https://memory-alpha.fandom.com/wiki/The_Cage_...   \n",
       "1    https://memory-alpha.fandom.com/wiki/Where_No_...   \n",
       "2    https://memory-alpha.fandom.com/wiki/The_Corbo...   \n",
       "3    https://memory-alpha.fandom.com/wiki/Mudd%27s_...   \n",
       "4    https://memory-alpha.fandom.com/wiki/The_Enemy...   \n",
       "..                                                 ...   \n",
       "773  https://memory-alpha.fandom.com/wiki/Terminal_...   \n",
       "774  https://memory-alpha.fandom.com/wiki/Much_Ado_...   \n",
       "775  https://memory-alpha.fandom.com/wiki/Veritas_(...   \n",
       "776  https://memory-alpha.fandom.com/wiki/Crisis_Po...   \n",
       "777  https://memory-alpha.fandom.com/wiki/No_Small_...   \n",
       "\n",
       "                                    summary_text_clean  \n",
       "0     Captain Pike on the bridge The year is 2254, ...  \n",
       "1     \"I'll have you checkmated your next move…\" \"C...  \n",
       "2     The mysterious object The USS Enterprise is i...  \n",
       "3     The USS Enterprise chases an unregistered sta...  \n",
       "4     During a survey of Alfa 177, geological techn...  \n",
       "..                                                 ...  \n",
       "773   In the lower decks crew quarters, Ensign Brad...  \n",
       "774   Ensigns Brad Boimler, Beckett Mariner, and Sa...  \n",
       "775   On K'Tuevon Prime, Ensigns Beckett Mariner, B...  \n",
       "776   On the surface of a planet, a huge statue of ...  \n",
       "777   \"The Cerritos is in orbit around Beta III. Ba...  \n",
       "\n",
       "[778 rows x 4 columns]"
      ]
     },
     "execution_count": 69,
     "metadata": {},
     "output_type": "execute_result"
    }
   ],
   "source": [
    "summaries_df"
   ]
  },
  {
   "cell_type": "code",
   "execution_count": 73,
   "id": "86bc5a37",
   "metadata": {},
   "outputs": [],
   "source": [
    "# Check if titles in Summaries are also in Metadata\n",
    "#metadata_df.where(metadata_df['title']==summaries_df['episode_titles']).notna()\n",
    "summaries_full = pd.merge(metadata_df, summaries_df, left_on='title', right_on='episode_titles')"
   ]
  },
  {
   "cell_type": "code",
   "execution_count": 74,
   "id": "23deb055",
   "metadata": {},
   "outputs": [
    {
     "data": {
      "text/plain": [
       "(778, 10)"
      ]
     },
     "execution_count": 74,
     "metadata": {},
     "output_type": "execute_result"
    }
   ],
   "source": [
    "summaries_full.shape"
   ]
  },
  {
   "cell_type": "code",
   "execution_count": 76,
   "id": "690d180c",
   "metadata": {},
   "outputs": [
    {
     "data": {
      "text/plain": [
       "episode               0\n",
       "title                 0\n",
       "abbr                  0\n",
       "stardate              0\n",
       "original_airdate      0\n",
       "production_number     0\n",
       "episode_abbr          0\n",
       "episode_titles        0\n",
       "episode_urls          0\n",
       "summary_text_clean    0\n",
       "dtype: int64"
      ]
     },
     "execution_count": 76,
     "metadata": {},
     "output_type": "execute_result"
    }
   ],
   "source": [
    "# Check for missing data\n",
    "summaries_full.isna().sum()"
   ]
  },
  {
   "cell_type": "code",
   "execution_count": 77,
   "id": "5872f036",
   "metadata": {},
   "outputs": [
    {
     "data": {
      "text/html": [
       "<div>\n",
       "<style scoped>\n",
       "    .dataframe tbody tr th:only-of-type {\n",
       "        vertical-align: middle;\n",
       "    }\n",
       "\n",
       "    .dataframe tbody tr th {\n",
       "        vertical-align: top;\n",
       "    }\n",
       "\n",
       "    .dataframe thead th {\n",
       "        text-align: right;\n",
       "    }\n",
       "</style>\n",
       "<table border=\"1\" class=\"dataframe\">\n",
       "  <thead>\n",
       "    <tr style=\"text-align: right;\">\n",
       "      <th></th>\n",
       "      <th>episode</th>\n",
       "      <th>title</th>\n",
       "      <th>abbr</th>\n",
       "      <th>stardate</th>\n",
       "      <th>original_airdate</th>\n",
       "      <th>production_number</th>\n",
       "      <th>episode_abbr</th>\n",
       "      <th>episode_titles</th>\n",
       "      <th>episode_urls</th>\n",
       "      <th>summary_text_clean</th>\n",
       "    </tr>\n",
       "  </thead>\n",
       "  <tbody>\n",
       "    <tr>\n",
       "      <th>0</th>\n",
       "      <td>0x01</td>\n",
       "      <td>The Cage</td>\n",
       "      <td>TOS</td>\n",
       "      <td>Unknown</td>\n",
       "      <td>1988-10-04</td>\n",
       "      <td>6149-01</td>\n",
       "      <td>TOS</td>\n",
       "      <td>The Cage</td>\n",
       "      <td>https://memory-alpha.fandom.com/wiki/The_Cage_...</td>\n",
       "      <td>Captain Pike on the bridge The year is 2254, ...</td>\n",
       "    </tr>\n",
       "    <tr>\n",
       "      <th>1</th>\n",
       "      <td>1x01</td>\n",
       "      <td>Where No Man Has Gone Before</td>\n",
       "      <td>TOS</td>\n",
       "      <td>1312.4 - 1313.8</td>\n",
       "      <td>1966-09-22</td>\n",
       "      <td>6149-02</td>\n",
       "      <td>TOS</td>\n",
       "      <td>Where No Man Has Gone Before</td>\n",
       "      <td>https://memory-alpha.fandom.com/wiki/Where_No_...</td>\n",
       "      <td>\"I'll have you checkmated your next move…\" \"C...</td>\n",
       "    </tr>\n",
       "    <tr>\n",
       "      <th>2</th>\n",
       "      <td>1x02</td>\n",
       "      <td>The Corbomite Maneuver</td>\n",
       "      <td>TOS</td>\n",
       "      <td>1512.2 - 1514.1</td>\n",
       "      <td>1966-11-10</td>\n",
       "      <td>6149-03</td>\n",
       "      <td>TOS</td>\n",
       "      <td>The Corbomite Maneuver</td>\n",
       "      <td>https://memory-alpha.fandom.com/wiki/The_Corbo...</td>\n",
       "      <td>The mysterious object The USS Enterprise is i...</td>\n",
       "    </tr>\n",
       "    <tr>\n",
       "      <th>3</th>\n",
       "      <td>1x03</td>\n",
       "      <td>Mudd's Women</td>\n",
       "      <td>TOS</td>\n",
       "      <td>1329.8 - 1330.1</td>\n",
       "      <td>1966-10-13</td>\n",
       "      <td>6149-04</td>\n",
       "      <td>TOS</td>\n",
       "      <td>Mudd's Women</td>\n",
       "      <td>https://memory-alpha.fandom.com/wiki/Mudd%27s_...</td>\n",
       "      <td>The USS Enterprise chases an unregistered sta...</td>\n",
       "    </tr>\n",
       "    <tr>\n",
       "      <th>4</th>\n",
       "      <td>1x04</td>\n",
       "      <td>The Enemy Within</td>\n",
       "      <td>TOS</td>\n",
       "      <td>1672.1 - 1673.1</td>\n",
       "      <td>1966-10-06</td>\n",
       "      <td>6149-05</td>\n",
       "      <td>TOS</td>\n",
       "      <td>The Enemy Within</td>\n",
       "      <td>https://memory-alpha.fandom.com/wiki/The_Enemy...</td>\n",
       "      <td>During a survey of Alfa 177, geological techn...</td>\n",
       "    </tr>\n",
       "  </tbody>\n",
       "</table>\n",
       "</div>"
      ],
      "text/plain": [
       "  episode                         title abbr         stardate  \\\n",
       "0    0x01                      The Cage  TOS          Unknown   \n",
       "1    1x01  Where No Man Has Gone Before  TOS  1312.4 - 1313.8   \n",
       "2    1x02        The Corbomite Maneuver  TOS  1512.2 - 1514.1   \n",
       "3    1x03                  Mudd's Women  TOS  1329.8 - 1330.1   \n",
       "4    1x04              The Enemy Within  TOS  1672.1 - 1673.1   \n",
       "\n",
       "  original_airdate production_number episode_abbr  \\\n",
       "0       1988-10-04           6149-01          TOS   \n",
       "1       1966-09-22           6149-02          TOS   \n",
       "2       1966-11-10           6149-03          TOS   \n",
       "3       1966-10-13           6149-04          TOS   \n",
       "4       1966-10-06           6149-05          TOS   \n",
       "\n",
       "                 episode_titles  \\\n",
       "0                      The Cage   \n",
       "1  Where No Man Has Gone Before   \n",
       "2        The Corbomite Maneuver   \n",
       "3                  Mudd's Women   \n",
       "4              The Enemy Within   \n",
       "\n",
       "                                        episode_urls  \\\n",
       "0  https://memory-alpha.fandom.com/wiki/The_Cage_...   \n",
       "1  https://memory-alpha.fandom.com/wiki/Where_No_...   \n",
       "2  https://memory-alpha.fandom.com/wiki/The_Corbo...   \n",
       "3  https://memory-alpha.fandom.com/wiki/Mudd%27s_...   \n",
       "4  https://memory-alpha.fandom.com/wiki/The_Enemy...   \n",
       "\n",
       "                                  summary_text_clean  \n",
       "0   Captain Pike on the bridge The year is 2254, ...  \n",
       "1   \"I'll have you checkmated your next move…\" \"C...  \n",
       "2   The mysterious object The USS Enterprise is i...  \n",
       "3   The USS Enterprise chases an unregistered sta...  \n",
       "4   During a survey of Alfa 177, geological techn...  "
      ]
     },
     "execution_count": 77,
     "metadata": {},
     "output_type": "execute_result"
    }
   ],
   "source": [
    "summaries_full.head()"
   ]
  },
  {
   "cell_type": "code",
   "execution_count": 79,
   "id": "3fdf837e",
   "metadata": {},
   "outputs": [
    {
     "data": {
      "text/html": [
       "<div>\n",
       "<style scoped>\n",
       "    .dataframe tbody tr th:only-of-type {\n",
       "        vertical-align: middle;\n",
       "    }\n",
       "\n",
       "    .dataframe tbody tr th {\n",
       "        vertical-align: top;\n",
       "    }\n",
       "\n",
       "    .dataframe thead th {\n",
       "        text-align: right;\n",
       "    }\n",
       "</style>\n",
       "<table border=\"1\" class=\"dataframe\">\n",
       "  <thead>\n",
       "    <tr style=\"text-align: right;\">\n",
       "      <th></th>\n",
       "      <th>episode</th>\n",
       "      <th>title</th>\n",
       "      <th>abbr</th>\n",
       "      <th>stardate</th>\n",
       "      <th>original_airdate</th>\n",
       "      <th>production_number</th>\n",
       "      <th>summary_text_clean</th>\n",
       "    </tr>\n",
       "  </thead>\n",
       "  <tbody>\n",
       "    <tr>\n",
       "      <th>0</th>\n",
       "      <td>0x01</td>\n",
       "      <td>The Cage</td>\n",
       "      <td>TOS</td>\n",
       "      <td>Unknown</td>\n",
       "      <td>1988-10-04</td>\n",
       "      <td>6149-01</td>\n",
       "      <td>Captain Pike on the bridge The year is 2254, ...</td>\n",
       "    </tr>\n",
       "    <tr>\n",
       "      <th>1</th>\n",
       "      <td>1x01</td>\n",
       "      <td>Where No Man Has Gone Before</td>\n",
       "      <td>TOS</td>\n",
       "      <td>1312.4 - 1313.8</td>\n",
       "      <td>1966-09-22</td>\n",
       "      <td>6149-02</td>\n",
       "      <td>\"I'll have you checkmated your next move…\" \"C...</td>\n",
       "    </tr>\n",
       "    <tr>\n",
       "      <th>2</th>\n",
       "      <td>1x02</td>\n",
       "      <td>The Corbomite Maneuver</td>\n",
       "      <td>TOS</td>\n",
       "      <td>1512.2 - 1514.1</td>\n",
       "      <td>1966-11-10</td>\n",
       "      <td>6149-03</td>\n",
       "      <td>The mysterious object The USS Enterprise is i...</td>\n",
       "    </tr>\n",
       "    <tr>\n",
       "      <th>3</th>\n",
       "      <td>1x03</td>\n",
       "      <td>Mudd's Women</td>\n",
       "      <td>TOS</td>\n",
       "      <td>1329.8 - 1330.1</td>\n",
       "      <td>1966-10-13</td>\n",
       "      <td>6149-04</td>\n",
       "      <td>The USS Enterprise chases an unregistered sta...</td>\n",
       "    </tr>\n",
       "    <tr>\n",
       "      <th>4</th>\n",
       "      <td>1x04</td>\n",
       "      <td>The Enemy Within</td>\n",
       "      <td>TOS</td>\n",
       "      <td>1672.1 - 1673.1</td>\n",
       "      <td>1966-10-06</td>\n",
       "      <td>6149-05</td>\n",
       "      <td>During a survey of Alfa 177, geological techn...</td>\n",
       "    </tr>\n",
       "    <tr>\n",
       "      <th>...</th>\n",
       "      <td>...</td>\n",
       "      <td>...</td>\n",
       "      <td>...</td>\n",
       "      <td>...</td>\n",
       "      <td>...</td>\n",
       "      <td>...</td>\n",
       "      <td>...</td>\n",
       "    </tr>\n",
       "    <tr>\n",
       "      <th>773</th>\n",
       "      <td>1x06</td>\n",
       "      <td>Terminal Provocations</td>\n",
       "      <td>LD</td>\n",
       "      <td>57663.9</td>\n",
       "      <td>2020-09-10</td>\n",
       "      <td>LD-1006</td>\n",
       "      <td>In the lower decks crew quarters, Ensign Brad...</td>\n",
       "    </tr>\n",
       "    <tr>\n",
       "      <th>774</th>\n",
       "      <td>1x07</td>\n",
       "      <td>Much Ado About Boimler</td>\n",
       "      <td>LD</td>\n",
       "      <td>57752.6</td>\n",
       "      <td>2020-09-17</td>\n",
       "      <td>LD-1007</td>\n",
       "      <td>Ensigns Brad Boimler, Beckett Mariner, and Sa...</td>\n",
       "    </tr>\n",
       "    <tr>\n",
       "      <th>775</th>\n",
       "      <td>1x08</td>\n",
       "      <td>Veritas</td>\n",
       "      <td>LD</td>\n",
       "      <td>Unknown</td>\n",
       "      <td>2020-09-24</td>\n",
       "      <td>LD-1008</td>\n",
       "      <td>On K'Tuevon Prime, Ensigns Beckett Mariner, B...</td>\n",
       "    </tr>\n",
       "    <tr>\n",
       "      <th>776</th>\n",
       "      <td>1x09</td>\n",
       "      <td>Crisis Point</td>\n",
       "      <td>LD</td>\n",
       "      <td>Unknown</td>\n",
       "      <td>2020-10-01</td>\n",
       "      <td>LD-1009</td>\n",
       "      <td>On the surface of a planet, a huge statue of ...</td>\n",
       "    </tr>\n",
       "    <tr>\n",
       "      <th>777</th>\n",
       "      <td>1x10</td>\n",
       "      <td>No Small Parts</td>\n",
       "      <td>LD</td>\n",
       "      <td>Unknown</td>\n",
       "      <td>2020-10-08</td>\n",
       "      <td>LD-1010</td>\n",
       "      <td>\"The Cerritos is in orbit around Beta III. Ba...</td>\n",
       "    </tr>\n",
       "  </tbody>\n",
       "</table>\n",
       "<p>778 rows × 7 columns</p>\n",
       "</div>"
      ],
      "text/plain": [
       "    episode                         title abbr         stardate  \\\n",
       "0      0x01                      The Cage  TOS          Unknown   \n",
       "1      1x01  Where No Man Has Gone Before  TOS  1312.4 - 1313.8   \n",
       "2      1x02        The Corbomite Maneuver  TOS  1512.2 - 1514.1   \n",
       "3      1x03                  Mudd's Women  TOS  1329.8 - 1330.1   \n",
       "4      1x04              The Enemy Within  TOS  1672.1 - 1673.1   \n",
       "..      ...                           ...  ...              ...   \n",
       "773    1x06         Terminal Provocations   LD          57663.9   \n",
       "774    1x07        Much Ado About Boimler   LD          57752.6   \n",
       "775    1x08                       Veritas   LD          Unknown   \n",
       "776    1x09                  Crisis Point   LD          Unknown   \n",
       "777    1x10                No Small Parts   LD          Unknown   \n",
       "\n",
       "    original_airdate production_number  \\\n",
       "0         1988-10-04           6149-01   \n",
       "1         1966-09-22           6149-02   \n",
       "2         1966-11-10           6149-03   \n",
       "3         1966-10-13           6149-04   \n",
       "4         1966-10-06           6149-05   \n",
       "..               ...               ...   \n",
       "773       2020-09-10           LD-1006   \n",
       "774       2020-09-17           LD-1007   \n",
       "775       2020-09-24           LD-1008   \n",
       "776       2020-10-01           LD-1009   \n",
       "777       2020-10-08           LD-1010   \n",
       "\n",
       "                                    summary_text_clean  \n",
       "0     Captain Pike on the bridge The year is 2254, ...  \n",
       "1     \"I'll have you checkmated your next move…\" \"C...  \n",
       "2     The mysterious object The USS Enterprise is i...  \n",
       "3     The USS Enterprise chases an unregistered sta...  \n",
       "4     During a survey of Alfa 177, geological techn...  \n",
       "..                                                 ...  \n",
       "773   In the lower decks crew quarters, Ensign Brad...  \n",
       "774   Ensigns Brad Boimler, Beckett Mariner, and Sa...  \n",
       "775   On K'Tuevon Prime, Ensigns Beckett Mariner, B...  \n",
       "776   On the surface of a planet, a huge statue of ...  \n",
       "777   \"The Cerritos is in orbit around Beta III. Ba...  \n",
       "\n",
       "[778 rows x 7 columns]"
      ]
     },
     "execution_count": 79,
     "metadata": {},
     "output_type": "execute_result"
    }
   ],
   "source": [
    "# drop unnecessary columns\n",
    "cols_to_drop = ['episode_abbr', 'episode_titles', 'episode_urls']\n",
    "\n",
    "#st_metadata_df = \n",
    "summaries_full.drop(cols_to_drop, axis=1)"
   ]
  },
  {
   "cell_type": "markdown",
   "id": "7ff043cd",
   "metadata": {},
   "source": [
    "# Transcripts"
   ]
  },
  {
   "cell_type": "code",
   "execution_count": 19,
   "id": "1dc3c0eb",
   "metadata": {},
   "outputs": [
    {
     "data": {
      "text/html": [
       "<div>\n",
       "<style scoped>\n",
       "    .dataframe tbody tr th:only-of-type {\n",
       "        vertical-align: middle;\n",
       "    }\n",
       "\n",
       "    .dataframe tbody tr th {\n",
       "        vertical-align: top;\n",
       "    }\n",
       "\n",
       "    .dataframe thead th {\n",
       "        text-align: right;\n",
       "    }\n",
       "</style>\n",
       "<table border=\"1\" class=\"dataframe\">\n",
       "  <thead>\n",
       "    <tr style=\"text-align: right;\">\n",
       "      <th></th>\n",
       "      <th>series</th>\n",
       "      <th>production_number</th>\n",
       "      <th>episode_title</th>\n",
       "      <th>script_link</th>\n",
       "      <th>transcript</th>\n",
       "    </tr>\n",
       "  </thead>\n",
       "  <tbody>\n",
       "    <tr>\n",
       "      <th>0</th>\n",
       "      <td>StarTrek</td>\n",
       "      <td>1</td>\n",
       "      <td>The Cage</td>\n",
       "      <td>http://www.chakoteya.net/StarTrek/1.htm</td>\n",
       "      <td>\\n\\n\\n\\n\\n\\nThe Star Trek Transcripts - The Ca...</td>\n",
       "    </tr>\n",
       "    <tr>\n",
       "      <th>1</th>\n",
       "      <td>StarTrek</td>\n",
       "      <td>6</td>\n",
       "      <td>The Man Trap</td>\n",
       "      <td>http://www.chakoteya.net/StarTrek/6.htm</td>\n",
       "      <td>\\n\\n\\n\\n\\n\\nThe Star Trek Transcripts - The Ma...</td>\n",
       "    </tr>\n",
       "    <tr>\n",
       "      <th>2</th>\n",
       "      <td>StarTrek</td>\n",
       "      <td>8</td>\n",
       "      <td>Charlie X</td>\n",
       "      <td>http://www.chakoteya.net/StarTrek/8.htm</td>\n",
       "      <td>\\n\\n\\n\\n\\n\\nThe Star Trek Transcripts - Charli...</td>\n",
       "    </tr>\n",
       "    <tr>\n",
       "      <th>3</th>\n",
       "      <td>StarTrek</td>\n",
       "      <td>2</td>\n",
       "      <td>Where No Man Has Gone Before</td>\n",
       "      <td>http://www.chakoteya.net/StarTrek/2.htm</td>\n",
       "      <td>\\n\\n\\n\\n\\n\\nThe Star Trek Transcripts - Where ...</td>\n",
       "    </tr>\n",
       "    <tr>\n",
       "      <th>4</th>\n",
       "      <td>StarTrek</td>\n",
       "      <td>7</td>\n",
       "      <td>The Naked Time</td>\n",
       "      <td>http://www.chakoteya.net/StarTrek/7.htm</td>\n",
       "      <td>\\n\\n\\n\\n\\n\\nThe Star Trek Transcripts - The Na...</td>\n",
       "    </tr>\n",
       "  </tbody>\n",
       "</table>\n",
       "</div>"
      ],
      "text/plain": [
       "     series production_number                  episode_title  \\\n",
       "0  StarTrek                 1                       The Cage   \n",
       "1  StarTrek                 6                   The Man Trap   \n",
       "2  StarTrek                 8                      Charlie X   \n",
       "3  StarTrek                 2   Where No Man Has Gone Before   \n",
       "4  StarTrek                 7                 The Naked Time   \n",
       "\n",
       "                               script_link  \\\n",
       "0  http://www.chakoteya.net/StarTrek/1.htm   \n",
       "1  http://www.chakoteya.net/StarTrek/6.htm   \n",
       "2  http://www.chakoteya.net/StarTrek/8.htm   \n",
       "3  http://www.chakoteya.net/StarTrek/2.htm   \n",
       "4  http://www.chakoteya.net/StarTrek/7.htm   \n",
       "\n",
       "                                          transcript  \n",
       "0  \\n\\n\\n\\n\\n\\nThe Star Trek Transcripts - The Ca...  \n",
       "1  \\n\\n\\n\\n\\n\\nThe Star Trek Transcripts - The Ma...  \n",
       "2  \\n\\n\\n\\n\\n\\nThe Star Trek Transcripts - Charli...  \n",
       "3  \\n\\n\\n\\n\\n\\nThe Star Trek Transcripts - Where ...  \n",
       "4  \\n\\n\\n\\n\\n\\nThe Star Trek Transcripts - The Na...  "
      ]
     },
     "execution_count": 19,
     "metadata": {},
     "output_type": "execute_result"
    }
   ],
   "source": [
    "transcripts_df.head()"
   ]
  },
  {
   "cell_type": "code",
   "execution_count": 14,
   "id": "3e7e7e78",
   "metadata": {},
   "outputs": [
    {
     "data": {
      "text/plain": [
       "(727, 5)"
      ]
     },
     "execution_count": 14,
     "metadata": {},
     "output_type": "execute_result"
    }
   ],
   "source": [
    "transcripts_df.shape"
   ]
  },
  {
   "cell_type": "code",
   "execution_count": 20,
   "id": "d22a3830",
   "metadata": {},
   "outputs": [
    {
     "name": "stdout",
     "output_type": "stream",
     "text": [
      "Number of series in Dataset:  6\n",
      "Number of unique episode titles in Dataset:  727\n",
      "Number of unique episode links in Dataset:  727\n",
      "Number of unique episode scripts in Dataset:  723\n"
     ]
    }
   ],
   "source": [
    "print(\"Number of series in Dataset: \", transcripts_df['series'].nunique())\n",
    "print(\"Number of unique episode titles in Dataset: \", transcripts_df['episode_title'].nunique())\n",
    "print(\"Number of unique episode links in Dataset: \", transcripts_df['script_link'].nunique())\n",
    "print(\"Number of unique episode scripts in Dataset: \", transcripts_df['transcript'].nunique())"
   ]
  },
  {
   "cell_type": "code",
   "execution_count": 88,
   "id": "a0a254be",
   "metadata": {},
   "outputs": [
    {
     "data": {
      "image/png": "[encoded data removed]",
      "text/plain": [
       "<Figure size 1008x576 with 1 Axes>"
      ]
     },
     "metadata": {
      "needs_background": "light"
     },
     "output_type": "display_data"
    }
   ],
   "source": [
    "plt.figure(figsize=(14,8))\n",
    "ax = sns.countplot(data=transcripts_df, x = 'series')  \n",
    "            #order=['TOS', 'TAS', 'TNG', 'DS9', 'VOY', 'ENT', 'DIS', 'PIC', 'LD'])\n",
    "\n",
    "plt.xlabel('Series')\n",
    "plt.ylabel('Number of Episodes')\n",
    "plt.title('Number of Episodes per Series')\n",
    "plt.show()"
   ]
  },
  {
   "cell_type": "code",
   "execution_count": null,
   "id": "246f8351",
   "metadata": {},
   "outputs": [],
   "source": [
    "# Two part episodes have the same transcripts\n",
    "episodes_df[episodes_df.duplicated(['transcript'])]"
   ]
  },
  {
   "cell_type": "code",
   "execution_count": null,
   "id": "3b78884f",
   "metadata": {},
   "outputs": [],
   "source": [
    "# Create mapping from series names to abbreviations\n",
    "series_names_chakoteya = []\n",
    "\n",
    "series_abbrs = episodes_summaries_df['episode_abbr'].unique().tolist()\n",
    "series_abbrs"
   ]
  }
 ],
 "metadata": {
  "kernelspec": {
   "display_name": "Python 3",
   "language": "python",
   "name": "python3"
  },
  "language_info": {
   "codemirror_mode": {
    "name": "ipython",
    "version": 3
   },
   "file_extension": ".py",
   "mimetype": "text/x-python",
   "name": "python",
   "nbconvert_exporter": "python",
   "pygments_lexer": "ipython3",
   "version": "3.8.10"
  }
 },
 "nbformat": 4,
 "nbformat_minor": 5
}
