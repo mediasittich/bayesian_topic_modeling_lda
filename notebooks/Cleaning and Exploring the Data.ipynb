{
 "cells": [
  {
   "cell_type": "markdown",
   "id": "0be2832c",
   "metadata": {},
   "source": [
    "# Cleaning and Exploring the Datasets\n",
    "\n",
    "**Star Trek Series**\n",
    "\n",
    "| Series | Seasons | Episodes | Originally released | In Dataset |\n",
    "| :----: | :----: | :----: | :----: | :----: |\n",
    "| The Original Series | 3 | 79 | September 8, 1966 – June 3, 1969 | yes |\n",
    "| The Animated Series | 2 | 22 | September 8, 1973 – October 12, 1974 | yes |\n",
    "| The Next Generation | 7 | 178 | September 28, 1987 – May 23, 1994 | yes |\n",
    "| Deep Space Nine | 7 | 176 | January 4, 1993 – May 31, 1999 | yes |\n",
    "| Voyager | 7 | 172 | January 16, 1995 – May 23, 2001 | yes |\n",
    "| Enterprise | 4 | 98 | September 26, 2001 – May 13, 2005 | yes |\n",
    "| Discovery | 3 | 42 | September 24, 2017 – present | only 1st season |\n",
    "| Short Treks | 2 | 10 | October 4, 2018 – January 9, 2020 | no |\n",
    "| Picard | 1 | 10 | January 23, 2020 – present | no |\n",
    "| Lower Decks | 1 | 10 | August 6, 2020 – present | no |\n",
    "\n",
    "Source: [Wikipedia:StarTrek#Television](https://en.wikipedia.org/wiki/Star_Trek#Television)\n",
    "\n",
    "## List of Episodes with Transcripts\n",
    "\n",
    "Source: [www.chakoteya.net | The Star Trek Transcripts](http://www.chakoteya.net/StarTrek/index.html)\n",
    "\n",
    "\n",
    "## Data structure:\n",
    "\n",
    "| id | airdate | series | production_number | episode_title | script |\n",
    "| :----: | :----: | :----: | :----: | :----: | :----: |\n",
    "| id | airdate | series | production_number | episode_title | script |\n",
    "| id | airdate | series | production_number | episode_title | script |"
   ]
  },
  {
   "cell_type": "code",
   "execution_count": 1,
   "id": "58e40d34",
   "metadata": {},
   "outputs": [],
   "source": [
    "import pandas as pd\n",
    "import re\n",
    "import matplotlib.pyplot as plt\n",
    "%matplotlib inline\n",
    "\n",
    "import nltk\n",
    "import spacy\n",
    "import contractions\n",
    "import unicodedata"
   ]
  },
  {
   "cell_type": "code",
   "execution_count": 10,
   "id": "8485c7ca",
   "metadata": {},
   "outputs": [],
   "source": [
    "# load Datasets\n",
    "metadata_df = pd.read_csv('../data/raw_data/st_metadata.csv')\n",
    "summaries_df = pd.read_csv('../data/raw_data/st_summaries.csv')\n",
    "transcripts_df = pd.read_csv('../data/raw_data/st_transcripts.csv')"
   ]
  },
  {
   "cell_type": "markdown",
   "id": "892097b6",
   "metadata": {},
   "source": [
    "# Metadata"
   ]
  },
  {
   "cell_type": "code",
   "execution_count": 11,
   "id": "875a8a05",
   "metadata": {},
   "outputs": [
    {
     "data": {
      "text/plain": [
       "(791, 6)"
      ]
     },
     "execution_count": 11,
     "metadata": {},
     "output_type": "execute_result"
    }
   ],
   "source": [
    "metadata_df.shape"
   ]
  },
  {
   "cell_type": "code",
   "execution_count": 12,
   "id": "53d64d0a",
   "metadata": {},
   "outputs": [
    {
     "data": {
      "text/html": [
       "<div>\n",
       "<style scoped>\n",
       "    .dataframe tbody tr th:only-of-type {\n",
       "        vertical-align: middle;\n",
       "    }\n",
       "\n",
       "    .dataframe tbody tr th {\n",
       "        vertical-align: top;\n",
       "    }\n",
       "\n",
       "    .dataframe thead th {\n",
       "        text-align: right;\n",
       "    }\n",
       "</style>\n",
       "<table border=\"1\" class=\"dataframe\">\n",
       "  <thead>\n",
       "    <tr style=\"text-align: right;\">\n",
       "      <th></th>\n",
       "      <th>episode</th>\n",
       "      <th>title</th>\n",
       "      <th>abbr</th>\n",
       "      <th>stardate</th>\n",
       "      <th>original_airdate</th>\n",
       "      <th>production_number</th>\n",
       "    </tr>\n",
       "  </thead>\n",
       "  <tbody>\n",
       "    <tr>\n",
       "      <th>0</th>\n",
       "      <td>0x01</td>\n",
       "      <td>The Cage</td>\n",
       "      <td>TOS</td>\n",
       "      <td>Unknown</td>\n",
       "      <td>1988-10-04</td>\n",
       "      <td>6149-01</td>\n",
       "    </tr>\n",
       "    <tr>\n",
       "      <th>1</th>\n",
       "      <td>1x01</td>\n",
       "      <td>Where No Man Has Gone Before</td>\n",
       "      <td>TOS</td>\n",
       "      <td>1312.4 - 1313.8</td>\n",
       "      <td>1966-09-22</td>\n",
       "      <td>6149-02</td>\n",
       "    </tr>\n",
       "    <tr>\n",
       "      <th>2</th>\n",
       "      <td>1x02</td>\n",
       "      <td>The Corbomite Maneuver</td>\n",
       "      <td>TOS</td>\n",
       "      <td>1512.2 - 1514.1</td>\n",
       "      <td>1966-11-10</td>\n",
       "      <td>6149-03</td>\n",
       "    </tr>\n",
       "    <tr>\n",
       "      <th>3</th>\n",
       "      <td>1x03</td>\n",
       "      <td>Mudd's Women</td>\n",
       "      <td>TOS</td>\n",
       "      <td>1329.8 - 1330.1</td>\n",
       "      <td>1966-10-13</td>\n",
       "      <td>6149-04</td>\n",
       "    </tr>\n",
       "    <tr>\n",
       "      <th>4</th>\n",
       "      <td>1x04</td>\n",
       "      <td>The Enemy Within</td>\n",
       "      <td>TOS</td>\n",
       "      <td>1672.1 - 1673.1</td>\n",
       "      <td>1966-10-06</td>\n",
       "      <td>6149-05</td>\n",
       "    </tr>\n",
       "  </tbody>\n",
       "</table>\n",
       "</div>"
      ],
      "text/plain": [
       "  episode                         title abbr         stardate  \\\n",
       "0    0x01                      The Cage  TOS          Unknown   \n",
       "1    1x01  Where No Man Has Gone Before  TOS  1312.4 - 1313.8   \n",
       "2    1x02        The Corbomite Maneuver  TOS  1512.2 - 1514.1   \n",
       "3    1x03                  Mudd's Women  TOS  1329.8 - 1330.1   \n",
       "4    1x04              The Enemy Within  TOS  1672.1 - 1673.1   \n",
       "\n",
       "  original_airdate production_number  \n",
       "0       1988-10-04           6149-01  \n",
       "1       1966-09-22           6149-02  \n",
       "2       1966-11-10           6149-03  \n",
       "3       1966-10-13           6149-04  \n",
       "4       1966-10-06           6149-05  "
      ]
     },
     "execution_count": 12,
     "metadata": {},
     "output_type": "execute_result"
    }
   ],
   "source": [
    "metadata_df.head()"
   ]
  },
  {
   "cell_type": "code",
   "execution_count": 16,
   "id": "b9024488",
   "metadata": {},
   "outputs": [
    {
     "name": "stdout",
     "output_type": "stream",
     "text": [
      "Number of series in Dataset:  9\n",
      "Number of unique episode titles in Dataset:  791\n"
     ]
    }
   ],
   "source": [
    "print(\"Number of series in Dataset: \", metadata_df['abbr'].nunique())\n",
    "print(\"Number of unique episode titles in Dataset: \", metadata_df['title'].nunique())"
   ]
  },
  {
   "cell_type": "markdown",
   "id": "fbc08fc4",
   "metadata": {},
   "source": [
    "# Summaries"
   ]
  },
  {
   "cell_type": "code",
   "execution_count": 13,
   "id": "28cbf644",
   "metadata": {},
   "outputs": [
    {
     "data": {
      "text/plain": [
       "(778, 4)"
      ]
     },
     "execution_count": 13,
     "metadata": {},
     "output_type": "execute_result"
    }
   ],
   "source": [
    "summaries_df.shape"
   ]
  },
  {
   "cell_type": "code",
   "execution_count": 17,
   "id": "17c1d61d",
   "metadata": {},
   "outputs": [
    {
     "data": {
      "text/html": [
       "<div>\n",
       "<style scoped>\n",
       "    .dataframe tbody tr th:only-of-type {\n",
       "        vertical-align: middle;\n",
       "    }\n",
       "\n",
       "    .dataframe tbody tr th {\n",
       "        vertical-align: top;\n",
       "    }\n",
       "\n",
       "    .dataframe thead th {\n",
       "        text-align: right;\n",
       "    }\n",
       "</style>\n",
       "<table border=\"1\" class=\"dataframe\">\n",
       "  <thead>\n",
       "    <tr style=\"text-align: right;\">\n",
       "      <th></th>\n",
       "      <th>episode_abbr</th>\n",
       "      <th>episode_titles</th>\n",
       "      <th>episode_urls</th>\n",
       "      <th>summary_text_clean</th>\n",
       "    </tr>\n",
       "  </thead>\n",
       "  <tbody>\n",
       "    <tr>\n",
       "      <th>0</th>\n",
       "      <td>TOS</td>\n",
       "      <td>The Cage</td>\n",
       "      <td>https://memory-alpha.fandom.com/wiki/The_Cage_...</td>\n",
       "      <td>Captain Pike on the bridge The year is 2254, ...</td>\n",
       "    </tr>\n",
       "    <tr>\n",
       "      <th>1</th>\n",
       "      <td>TOS</td>\n",
       "      <td>Where No Man Has Gone Before</td>\n",
       "      <td>https://memory-alpha.fandom.com/wiki/Where_No_...</td>\n",
       "      <td>\"I'll have you checkmated your next move…\" \"C...</td>\n",
       "    </tr>\n",
       "    <tr>\n",
       "      <th>2</th>\n",
       "      <td>TOS</td>\n",
       "      <td>The Corbomite Maneuver</td>\n",
       "      <td>https://memory-alpha.fandom.com/wiki/The_Corbo...</td>\n",
       "      <td>The mysterious object The USS Enterprise is i...</td>\n",
       "    </tr>\n",
       "    <tr>\n",
       "      <th>3</th>\n",
       "      <td>TOS</td>\n",
       "      <td>Mudd's Women</td>\n",
       "      <td>https://memory-alpha.fandom.com/wiki/Mudd%27s_...</td>\n",
       "      <td>The USS Enterprise chases an unregistered sta...</td>\n",
       "    </tr>\n",
       "    <tr>\n",
       "      <th>4</th>\n",
       "      <td>TOS</td>\n",
       "      <td>The Enemy Within</td>\n",
       "      <td>https://memory-alpha.fandom.com/wiki/The_Enemy...</td>\n",
       "      <td>During a survey of Alfa 177, geological techn...</td>\n",
       "    </tr>\n",
       "  </tbody>\n",
       "</table>\n",
       "</div>"
      ],
      "text/plain": [
       "  episode_abbr                episode_titles  \\\n",
       "0          TOS                      The Cage   \n",
       "1          TOS  Where No Man Has Gone Before   \n",
       "2          TOS        The Corbomite Maneuver   \n",
       "3          TOS                  Mudd's Women   \n",
       "4          TOS              The Enemy Within   \n",
       "\n",
       "                                        episode_urls  \\\n",
       "0  https://memory-alpha.fandom.com/wiki/The_Cage_...   \n",
       "1  https://memory-alpha.fandom.com/wiki/Where_No_...   \n",
       "2  https://memory-alpha.fandom.com/wiki/The_Corbo...   \n",
       "3  https://memory-alpha.fandom.com/wiki/Mudd%27s_...   \n",
       "4  https://memory-alpha.fandom.com/wiki/The_Enemy...   \n",
       "\n",
       "                                  summary_text_clean  \n",
       "0   Captain Pike on the bridge The year is 2254, ...  \n",
       "1   \"I'll have you checkmated your next move…\" \"C...  \n",
       "2   The mysterious object The USS Enterprise is i...  \n",
       "3   The USS Enterprise chases an unregistered sta...  \n",
       "4   During a survey of Alfa 177, geological techn...  "
      ]
     },
     "execution_count": 17,
     "metadata": {},
     "output_type": "execute_result"
    }
   ],
   "source": [
    "summaries_df.head()"
   ]
  },
  {
   "cell_type": "code",
   "execution_count": 18,
   "id": "bb87b118",
   "metadata": {},
   "outputs": [
    {
     "name": "stdout",
     "output_type": "stream",
     "text": [
      "Number of series in Dataset:  9\n",
      "Number of unique episode titles in Dataset:  778\n",
      "Number of unique episode scripts in Dataset:  778\n"
     ]
    }
   ],
   "source": [
    "print(\"Number of series in Dataset: \", summaries_df['episode_abbr'].nunique())\n",
    "print(\"Number of unique episode titles in Dataset: \", summaries_df['episode_titles'].nunique())\n",
    "print(\"Number of unique episode scripts in Dataset: \", summaries_df['summary_text_clean'].nunique())"
   ]
  },
  {
   "cell_type": "markdown",
   "id": "8325682e",
   "metadata": {},
   "source": [
    "# Transcripts"
   ]
  },
  {
   "cell_type": "code",
   "execution_count": 14,
   "id": "8641dc31",
   "metadata": {},
   "outputs": [
    {
     "data": {
      "text/plain": [
       "(727, 5)"
      ]
     },
     "execution_count": 14,
     "metadata": {},
     "output_type": "execute_result"
    }
   ],
   "source": [
    "transcripts_df.shape"
   ]
  },
  {
   "cell_type": "code",
   "execution_count": 19,
   "id": "106a72f7",
   "metadata": {},
   "outputs": [
    {
     "data": {
      "text/html": [
       "<div>\n",
       "<style scoped>\n",
       "    .dataframe tbody tr th:only-of-type {\n",
       "        vertical-align: middle;\n",
       "    }\n",
       "\n",
       "    .dataframe tbody tr th {\n",
       "        vertical-align: top;\n",
       "    }\n",
       "\n",
       "    .dataframe thead th {\n",
       "        text-align: right;\n",
       "    }\n",
       "</style>\n",
       "<table border=\"1\" class=\"dataframe\">\n",
       "  <thead>\n",
       "    <tr style=\"text-align: right;\">\n",
       "      <th></th>\n",
       "      <th>series</th>\n",
       "      <th>production_number</th>\n",
       "      <th>episode_title</th>\n",
       "      <th>script_link</th>\n",
       "      <th>transcript</th>\n",
       "    </tr>\n",
       "  </thead>\n",
       "  <tbody>\n",
       "    <tr>\n",
       "      <th>0</th>\n",
       "      <td>StarTrek</td>\n",
       "      <td>1</td>\n",
       "      <td>The Cage</td>\n",
       "      <td>http://www.chakoteya.net/StarTrek/1.htm</td>\n",
       "      <td>\\n\\n\\n\\n\\n\\nThe Star Trek Transcripts - The Ca...</td>\n",
       "    </tr>\n",
       "    <tr>\n",
       "      <th>1</th>\n",
       "      <td>StarTrek</td>\n",
       "      <td>6</td>\n",
       "      <td>The Man Trap</td>\n",
       "      <td>http://www.chakoteya.net/StarTrek/6.htm</td>\n",
       "      <td>\\n\\n\\n\\n\\n\\nThe Star Trek Transcripts - The Ma...</td>\n",
       "    </tr>\n",
       "    <tr>\n",
       "      <th>2</th>\n",
       "      <td>StarTrek</td>\n",
       "      <td>8</td>\n",
       "      <td>Charlie X</td>\n",
       "      <td>http://www.chakoteya.net/StarTrek/8.htm</td>\n",
       "      <td>\\n\\n\\n\\n\\n\\nThe Star Trek Transcripts - Charli...</td>\n",
       "    </tr>\n",
       "    <tr>\n",
       "      <th>3</th>\n",
       "      <td>StarTrek</td>\n",
       "      <td>2</td>\n",
       "      <td>Where No Man Has Gone Before</td>\n",
       "      <td>http://www.chakoteya.net/StarTrek/2.htm</td>\n",
       "      <td>\\n\\n\\n\\n\\n\\nThe Star Trek Transcripts - Where ...</td>\n",
       "    </tr>\n",
       "    <tr>\n",
       "      <th>4</th>\n",
       "      <td>StarTrek</td>\n",
       "      <td>7</td>\n",
       "      <td>The Naked Time</td>\n",
       "      <td>http://www.chakoteya.net/StarTrek/7.htm</td>\n",
       "      <td>\\n\\n\\n\\n\\n\\nThe Star Trek Transcripts - The Na...</td>\n",
       "    </tr>\n",
       "  </tbody>\n",
       "</table>\n",
       "</div>"
      ],
      "text/plain": [
       "     series production_number                  episode_title  \\\n",
       "0  StarTrek                 1                       The Cage   \n",
       "1  StarTrek                 6                   The Man Trap   \n",
       "2  StarTrek                 8                      Charlie X   \n",
       "3  StarTrek                 2   Where No Man Has Gone Before   \n",
       "4  StarTrek                 7                 The Naked Time   \n",
       "\n",
       "                               script_link  \\\n",
       "0  http://www.chakoteya.net/StarTrek/1.htm   \n",
       "1  http://www.chakoteya.net/StarTrek/6.htm   \n",
       "2  http://www.chakoteya.net/StarTrek/8.htm   \n",
       "3  http://www.chakoteya.net/StarTrek/2.htm   \n",
       "4  http://www.chakoteya.net/StarTrek/7.htm   \n",
       "\n",
       "                                          transcript  \n",
       "0  \\n\\n\\n\\n\\n\\nThe Star Trek Transcripts - The Ca...  \n",
       "1  \\n\\n\\n\\n\\n\\nThe Star Trek Transcripts - The Ma...  \n",
       "2  \\n\\n\\n\\n\\n\\nThe Star Trek Transcripts - Charli...  \n",
       "3  \\n\\n\\n\\n\\n\\nThe Star Trek Transcripts - Where ...  \n",
       "4  \\n\\n\\n\\n\\n\\nThe Star Trek Transcripts - The Na...  "
      ]
     },
     "execution_count": 19,
     "metadata": {},
     "output_type": "execute_result"
    }
   ],
   "source": [
    "transcripts_df.head()"
   ]
  },
  {
   "cell_type": "code",
   "execution_count": 20,
   "id": "04364e24",
   "metadata": {},
   "outputs": [
    {
     "name": "stdout",
     "output_type": "stream",
     "text": [
      "Number of series in Dataset:  6\n",
      "Number of unique episode titles in Dataset:  727\n",
      "Number of unique episode links in Dataset:  727\n",
      "Number of unique episode scripts in Dataset:  723\n"
     ]
    }
   ],
   "source": [
    "print(\"Number of series in Dataset: \", transcripts_df['series'].nunique())\n",
    "print(\"Number of unique episode titles in Dataset: \", transcripts_df['episode_title'].nunique())\n",
    "print(\"Number of unique episode links in Dataset: \", transcripts_df['script_link'].nunique())\n",
    "print(\"Number of unique episode scripts in Dataset: \", transcripts_df['transcript'].nunique())"
   ]
  },
  {
   "cell_type": "code",
   "execution_count": null,
   "id": "8493568f",
   "metadata": {},
   "outputs": [],
   "source": []
  },
  {
   "cell_type": "code",
   "execution_count": null,
   "id": "4274839b",
   "metadata": {},
   "outputs": [],
   "source": [
    "# Two part episodes have the same transcripts\n",
    "episodes_df[episodes_df.duplicated(['transcript'])]"
   ]
  },
  {
   "cell_type": "code",
   "execution_count": null,
   "id": "c7701c48",
   "metadata": {},
   "outputs": [],
   "source": [
    "# Create mapping from series names to abbreviations\n",
    "series_names_chakoteya = []\n",
    "\n",
    "series_abbrs = episodes_summaries_df['episode_abbr'].unique().tolist()\n",
    "series_abbrs"
   ]
  }
 ],
 "metadata": {
  "kernelspec": {
   "display_name": "Python 3",
   "language": "python",
   "name": "python3"
  },
  "language_info": {
   "codemirror_mode": {
    "name": "ipython",
    "version": 3
   },
   "file_extension": ".py",
   "mimetype": "text/x-python",
   "name": "python",
   "nbconvert_exporter": "python",
   "pygments_lexer": "ipython3",
   "version": "3.8.10"
  }
 },
 "nbformat": 4,
 "nbformat_minor": 5
}
